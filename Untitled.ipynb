{
 "cells": [
  {
   "cell_type": "code",
   "execution_count": 1,
   "id": "07a322ae",
   "metadata": {},
   "outputs": [],
   "source": [
    "import networkx as nx\n",
    "import numpy as np\n",
    "import pandas as pd\n",
    "import matplotlib.pyplot as plt\n",
    "import plotly.graph_objects as go\n",
    "import matplotlib.cm as cm\n",
    "import random\n",
    "from scipy.stats import stats\n",
    "from sklearn.cluster import SpectralClustering"
   ]
  },
  {
   "cell_type": "code",
   "execution_count": 2,
   "id": "33efcafa",
   "metadata": {},
   "outputs": [],
   "source": [
    "#load data\n",
    "stocks = pd.read_csv(\"all_stocks_5yr.csv\")"
   ]
  },
  {
   "cell_type": "code",
   "execution_count": 3,
   "id": "c5ef6fa2",
   "metadata": {},
   "outputs": [
    {
     "data": {
      "text/plain": [
       "Index(['date', 'open', 'high', 'low', 'close', 'volume', 'Name'], dtype='object')"
      ]
     },
     "execution_count": 3,
     "metadata": {},
     "output_type": "execute_result"
    }
   ],
   "source": [
    "stocks.columns"
   ]
  },
  {
   "cell_type": "code",
   "execution_count": 4,
   "id": "6df8e477",
   "metadata": {},
   "outputs": [],
   "source": [
    "#drop unnessecary columns"
   ]
  },
  {
   "cell_type": "code",
   "execution_count": 5,
   "id": "65ff5e60",
   "metadata": {},
   "outputs": [],
   "source": [
    "stocks = stocks.drop(columns=['high', 'low', 'volume'])"
   ]
  },
  {
   "cell_type": "code",
   "execution_count": 6,
   "id": "d8332fc4",
   "metadata": {},
   "outputs": [
    {
     "data": {
      "text/plain": [
       "Index(['date', 'open', 'close', 'Name'], dtype='object')"
      ]
     },
     "execution_count": 6,
     "metadata": {},
     "output_type": "execute_result"
    }
   ],
   "source": [
    "stocks.columns"
   ]
  },
  {
   "cell_type": "code",
   "execution_count": 7,
   "id": "cf44bafa",
   "metadata": {},
   "outputs": [],
   "source": [
    "#add percent return column\n",
    "stocks['percent_return'] = (stocks['close'] - stocks['open']) / stocks['open']"
   ]
  },
  {
   "cell_type": "code",
   "execution_count": 8,
   "id": "1b983d35",
   "metadata": {},
   "outputs": [
    {
     "data": {
      "text/html": [
       "<div>\n",
       "<style scoped>\n",
       "    .dataframe tbody tr th:only-of-type {\n",
       "        vertical-align: middle;\n",
       "    }\n",
       "\n",
       "    .dataframe tbody tr th {\n",
       "        vertical-align: top;\n",
       "    }\n",
       "\n",
       "    .dataframe thead th {\n",
       "        text-align: right;\n",
       "    }\n",
       "</style>\n",
       "<table border=\"1\" class=\"dataframe\">\n",
       "  <thead>\n",
       "    <tr style=\"text-align: right;\">\n",
       "      <th></th>\n",
       "      <th>date</th>\n",
       "      <th>open</th>\n",
       "      <th>close</th>\n",
       "      <th>Name</th>\n",
       "      <th>percent_return</th>\n",
       "    </tr>\n",
       "  </thead>\n",
       "  <tbody>\n",
       "    <tr>\n",
       "      <th>0</th>\n",
       "      <td>2013-02-08</td>\n",
       "      <td>15.07</td>\n",
       "      <td>14.75</td>\n",
       "      <td>AAL</td>\n",
       "      <td>-0.021234</td>\n",
       "    </tr>\n",
       "    <tr>\n",
       "      <th>1</th>\n",
       "      <td>2013-02-11</td>\n",
       "      <td>14.89</td>\n",
       "      <td>14.46</td>\n",
       "      <td>AAL</td>\n",
       "      <td>-0.028878</td>\n",
       "    </tr>\n",
       "    <tr>\n",
       "      <th>2</th>\n",
       "      <td>2013-02-12</td>\n",
       "      <td>14.45</td>\n",
       "      <td>14.27</td>\n",
       "      <td>AAL</td>\n",
       "      <td>-0.012457</td>\n",
       "    </tr>\n",
       "    <tr>\n",
       "      <th>3</th>\n",
       "      <td>2013-02-13</td>\n",
       "      <td>14.30</td>\n",
       "      <td>14.66</td>\n",
       "      <td>AAL</td>\n",
       "      <td>0.025175</td>\n",
       "    </tr>\n",
       "    <tr>\n",
       "      <th>4</th>\n",
       "      <td>2013-02-14</td>\n",
       "      <td>14.94</td>\n",
       "      <td>13.99</td>\n",
       "      <td>AAL</td>\n",
       "      <td>-0.063588</td>\n",
       "    </tr>\n",
       "  </tbody>\n",
       "</table>\n",
       "</div>"
      ],
      "text/plain": [
       "         date   open  close Name  percent_return\n",
       "0  2013-02-08  15.07  14.75  AAL       -0.021234\n",
       "1  2013-02-11  14.89  14.46  AAL       -0.028878\n",
       "2  2013-02-12  14.45  14.27  AAL       -0.012457\n",
       "3  2013-02-13  14.30  14.66  AAL        0.025175\n",
       "4  2013-02-14  14.94  13.99  AAL       -0.063588"
      ]
     },
     "execution_count": 8,
     "metadata": {},
     "output_type": "execute_result"
    }
   ],
   "source": [
    "stocks.head()"
   ]
  },
  {
   "cell_type": "code",
   "execution_count": 9,
   "id": "c3a519cc",
   "metadata": {},
   "outputs": [],
   "source": [
    "def check_correlation(correlation):\n",
    "    if correlation != \"\":\n",
    "        correlation = float(correlation)\n",
    "        if np.isfinite(correlation) and not np.isnan(correlation):\n",
    "            return correlation\n",
    "    return 0"
   ]
  },
  {
   "cell_type": "code",
   "execution_count": 10,
   "id": "cb3a257e",
   "metadata": {},
   "outputs": [],
   "source": [
    "#finds the correlation between percent_return of stock [name1] and stock [name2] [offset] days later\n",
    "def correlation(name1, name2, offset, stocks_pivot):\n",
    "    correlation = stocks_pivot[name1].corr(stocks_pivot[name2])\n",
    "    return correlation"
   ]
  },
  {
   "cell_type": "code",
   "execution_count": 11,
   "id": "a2ac4447",
   "metadata": {},
   "outputs": [],
   "source": [
    "#finds the correlation between percent_return of stock [name1] and stock [name2] [offset] days later\n",
    "def correlation_offset(name1, name2, offset):\n",
    "    if offset < 0: return 'Offset must be non-negative'\n",
    "    stocks_filtered = stocks.loc[(stocks['Name'] == name1) | (stocks['Name'] == name2)]\n",
    "    stocks_pivot = stocks_filtered.pivot(index='date', columns='Name', values='percent_return')\n",
    "    stocks_pivot[name2] = stocks_pivot[name2].shift(-offset)\n",
    "    correlation = stocks_pivot[name1].corr(stocks_pivot[name2])\n",
    "    return correlation"
   ]
  },
  {
   "cell_type": "code",
   "execution_count": 12,
   "id": "d5b0ba84",
   "metadata": {},
   "outputs": [
    {
     "name": "stdout",
     "output_type": "stream",
     "text": [
      "0.3903250393024427\n",
      "0.030439793761227307\n",
      "-0.0127650700466408\n",
      "-0.03597015357728092\n"
     ]
    }
   ],
   "source": [
    "#sample calls to correlation function\n",
    "print(correlation_offset('NVDA', 'AMD', 0))\n",
    "print(correlation_offset('NVDA', 'AMD', 1))\n",
    "print(correlation_offset('NVDA', 'AMD', 7))\n",
    "print(correlation_offset('NVDA', 'AMD', 30))"
   ]
  },
  {
   "cell_type": "code",
   "execution_count": 13,
   "id": "12d34b66",
   "metadata": {},
   "outputs": [
    {
     "name": "stdout",
     "output_type": "stream",
     "text": [
      "['AAL' 'AAPL' 'AAP' 'ABBV' 'ABC' 'ABT' 'ACN' 'ADBE' 'ADI' 'ADM']\n"
     ]
    }
   ],
   "source": [
    "#list of distinct stocks\n",
    "unique = stocks['Name'].unique()\n",
    "print(unique[:10])"
   ]
  },
  {
   "cell_type": "code",
   "execution_count": 33,
   "id": "6e08ccda",
   "metadata": {},
   "outputs": [],
   "source": [
    "def populate_edges(unique, offset=1):\n",
    "    if offset < 0: return 'Offset must be non-negative'\n",
    "    stocks_pivot = stocks.pivot(index='date', columns='Name', values='percent_return')\n",
    "    edges = np.zeros((len(unique),len(unique)))\n",
    "    for i, stock2 in enumerate(unique):\n",
    "        stocks_pivot[stock2] = stocks_pivot[stock2].shift(-offset)\n",
    "        for j, stock1 in enumerate(unique):\n",
    "            if edges[j, i] != 0: continue\n",
    "            corr = correlation(stock1, stock2, offset, stocks_pivot)\n",
    "            edges[j, i] = corr\n",
    "        stocks_pivot[stock2] = stocks_pivot[stock2].shift(offset)\n",
    "    return edges"
   ]
  },
  {
   "cell_type": "code",
   "execution_count": 34,
   "id": "6b05c343",
   "metadata": {},
   "outputs": [],
   "source": [
    "#create adjacency matrices with naming convention weights{offset in days}\n",
    "weights0 = populate_edges(unique, 0)\n",
    "weights1 = populate_edges(unique, 1)\n",
    "weights7 = populate_edges(unique, 7)\n",
    "weights30 = populate_edges(unique, 30)"
   ]
  },
  {
   "cell_type": "code",
   "execution_count": 35,
   "id": "fc5bbab0",
   "metadata": {},
   "outputs": [
    {
     "name": "stdout",
     "output_type": "stream",
     "text": [
      "(505, 505)\n",
      "(505, 505)\n",
      "(505, 505)\n",
      "(505, 505)\n"
     ]
    }
   ],
   "source": [
    "print(weights0.shape)\n",
    "print(weights1.shape)\n",
    "print(weights7.shape)\n",
    "print(weights30.shape)"
   ]
  },
  {
   "cell_type": "code",
   "execution_count": 36,
   "id": "9aabed1a",
   "metadata": {},
   "outputs": [],
   "source": [
    "#initialize graphs corresponding to each adjacency matrix of weights\n",
    "G0 = nx.DiGraph()\n",
    "G1 = nx.DiGraph()\n",
    "G7 = nx.DiGraph()\n",
    "G30 = nx.DiGraph()"
   ]
  },
  {
   "cell_type": "code",
   "execution_count": 37,
   "id": "c3aaf323",
   "metadata": {},
   "outputs": [],
   "source": [
    "def add_nodes(graph):\n",
    "    graph.add_nodes_from([(i, {\"name\" : stock, \"residue\" : 0}) for i, stock in enumerate(unique)])"
   ]
  },
  {
   "cell_type": "code",
   "execution_count": 38,
   "id": "d2389ba6",
   "metadata": {},
   "outputs": [],
   "source": [
    "def add_edges(graph, edges):\n",
    "    rows, cols = edges.shape\n",
    "    for row in range(rows):\n",
    "        for col in range(cols):\n",
    "            if row != col: graph.add_edge(row, col, weight=edges[row, col])"
   ]
  },
  {
   "cell_type": "code",
   "execution_count": 39,
   "id": "87606ac3",
   "metadata": {},
   "outputs": [],
   "source": [
    "def make_graph(graph, edges):\n",
    "    add_nodes(graph)\n",
    "    add_edges(graph, edges)"
   ]
  },
  {
   "cell_type": "code",
   "execution_count": 40,
   "id": "251c6b66",
   "metadata": {},
   "outputs": [],
   "source": [
    "make_graph(G0, weights0)\n",
    "make_graph(G1, weights1)\n",
    "make_graph(G7, weights7)\n",
    "make_graph(G30, weights30)"
   ]
  },
  {
   "cell_type": "code",
   "execution_count": 41,
   "id": "4436cd49",
   "metadata": {},
   "outputs": [
    {
     "name": "stdout",
     "output_type": "stream",
     "text": [
      "254520\n",
      "505\n",
      "504\n"
     ]
    }
   ],
   "source": [
    "print(G0.number_of_edges())\n",
    "print(G0.number_of_nodes())\n",
    "print(G0.out_degree(0))"
   ]
  },
  {
   "cell_type": "code",
   "execution_count": 42,
   "id": "b1baf3f9",
   "metadata": {},
   "outputs": [],
   "source": [
    "#plots the {tag}-degree distribution such that tag is one of ['in', 'out']\n",
    "def plot_degree_dist(graph, tag, offset):\n",
    "    if tag not in ['in', 'out']: return 'invalid tag'\n",
    "    if tag == 'in': degrees = dict(graph.in_degree(weight='weight'))\n",
    "    else: degrees = dict(graph.out_degree(weight='weight'))\n",
    "    nodes = graph.nodes()\n",
    "    degrees_values = [degrees[node] for node in nodes]\n",
    "    num_bins = 10\n",
    "    hist, bin_edges = np.histogram(degrees_values, bins=num_bins)\n",
    "    plt.figure(figsize=(10, 5))\n",
    "    plt.bar(bin_edges[:-1], hist, width=np.diff(bin_edges), align='edge')\n",
    "    plt.xlabel(f'Weighted {tag}-Degree Range')\n",
    "    plt.ylabel('Frequency')\n",
    "    plt.title(f'Frequency of Nodes in Weighted {tag}-Degree in Graph with Offset {offset}')\n",
    "    plt.xticks(bin_edges)\n",
    "    plt.show()"
   ]
  },
  {
   "cell_type": "code",
   "execution_count": 43,
   "id": "b3765a5d",
   "metadata": {},
   "outputs": [
    {
     "data": {
      "image/png": "[encoded data removed]",
      "text/plain": [
       "<Figure size 720x360 with 1 Axes>"
      ]
     },
     "metadata": {
      "needs_background": "light"
     },
     "output_type": "display_data"
    },
    {
     "data": {
      "image/png": "[encoded data removed]",
      "text/plain": [
       "<Figure size 720x360 with 1 Axes>"
      ]
     },
     "metadata": {
      "needs_background": "light"
     },
     "output_type": "display_data"
    },
    {
     "data": {
      "image/png": "[encoded data removed]",
      "text/plain": [
       "<Figure size 720x360 with 1 Axes>"
      ]
     },
     "metadata": {
      "needs_background": "light"
     },
     "output_type": "display_data"
    },
    {
     "data": {
      "image/png": "[encoded data removed]",
      "text/plain": [
       "<Figure size 720x360 with 1 Axes>"
      ]
     },
     "metadata": {
      "needs_background": "light"
     },
     "output_type": "display_data"
    }
   ],
   "source": [
    "plot_degree_dist(G0, 'in', 0)\n",
    "plot_degree_dist(G1, 'in', 1)\n",
    "plot_degree_dist(G7, 'in', 7)\n",
    "plot_degree_dist(G30, 'in', 30)"
   ]
  },
  {
   "cell_type": "code",
   "execution_count": 44,
   "id": "244b2482",
   "metadata": {},
   "outputs": [
    {
     "data": {
      "image/png": "[encoded data removed]",
      "text/plain": [
       "<Figure size 720x360 with 1 Axes>"
      ]
     },
     "metadata": {
      "needs_background": "light"
     },
     "output_type": "display_data"
    },
    {
     "data": {
      "image/png": "[encoded data removed]",
      "text/plain": [
       "<Figure size 720x360 with 1 Axes>"
      ]
     },
     "metadata": {
      "needs_background": "light"
     },
     "output_type": "display_data"
    },
    {
     "data": {
      "image/png": "[encoded data removed]",
      "text/plain": [
       "<Figure size 720x360 with 1 Axes>"
      ]
     },
     "metadata": {
      "needs_background": "light"
     },
     "output_type": "display_data"
    },
    {
     "data": {
      "image/png": "[encoded data removed]",
      "text/plain": [
       "<Figure size 720x360 with 1 Axes>"
      ]
     },
     "metadata": {
      "needs_background": "light"
     },
     "output_type": "display_data"
    }
   ],
   "source": [
    "plot_degree_dist(G0, 'out', 0)\n",
    "plot_degree_dist(G1, 'out', 1)\n",
    "plot_degree_dist(G7, 'out', 7)\n",
    "plot_degree_dist(G30, 'out', 30)"
   ]
  },
  {
   "cell_type": "code",
   "execution_count": 45,
   "id": "61acaa45",
   "metadata": {},
   "outputs": [
    {
     "data": {
      "text/plain": [
       "'min_st0 = nx.minimum_spanning_arborescence(G0)\\nmin_st1 = nx.minimum_spanning_arborescence(G1)\\nmin_st7 = nx.minimum_spanning_arborescence(G7)\\nmin_st30 = nx.minimum_spanning_arborescence(G30)\\nmax_st0 = nx.maximum_spanning_arborescence(G0)\\nmax_st1 = nx.maximum_spanning_arborescence(G1)\\nmax_st7 = nx.maximum_spanning_arborescence(G7)\\nmax_st30 = nx.maximum_spanning_arborescence(G30)'"
      ]
     },
     "execution_count": 45,
     "metadata": {},
     "output_type": "execute_result"
    }
   ],
   "source": [
    "#compute the min and max spanning trees\n",
    "'''min_st0 = nx.minimum_spanning_arborescence(G0)\n",
    "min_st1 = nx.minimum_spanning_arborescence(G1)\n",
    "min_st7 = nx.minimum_spanning_arborescence(G7)\n",
    "min_st30 = nx.minimum_spanning_arborescence(G30)\n",
    "max_st0 = nx.maximum_spanning_arborescence(G0)\n",
    "max_st1 = nx.maximum_spanning_arborescence(G1)\n",
    "max_st7 = nx.maximum_spanning_arborescence(G7)\n",
    "max_st30 = nx.maximum_spanning_arborescence(G30)'''"
   ]
  },
  {
   "cell_type": "code",
   "execution_count": 46,
   "id": "bdd796ce",
   "metadata": {},
   "outputs": [],
   "source": [
    "def get_degree_extrema(graph, tag, in_out_tag):\n",
    "    if tag not in ['max', 'min'] or in_out_tag not in ['in', 'out']:\n",
    "        return 'invalid tag or in_out_tag'\n",
    "\n",
    "    node_degrees = {}\n",
    "    for node in graph.nodes:\n",
    "        if in_out_tag == 'in':\n",
    "            degree = sum(data.get('weight', 0) for _, _, data in graph.in_edges(node, data=True))\n",
    "        else:\n",
    "            degree = sum(data.get('weight', 0) for _, _, data in graph.out_edges(node, data=True))\n",
    "        node_degrees[node] = degree\n",
    "\n",
    "    if tag == 'max':\n",
    "        node_with_extrema = max(node_degrees, key=node_degrees.get)\n",
    "    else:\n",
    "        node_with_extrema = min(node_degrees, key=node_degrees.get)\n",
    "    return graph.nodes[node_with_extrema]['name']"
   ]
  },
  {
   "cell_type": "code",
   "execution_count": 52,
   "id": "b27029ee",
   "metadata": {},
   "outputs": [
    {
     "name": "stdout",
     "output_type": "stream",
     "text": [
      "max in degree in G0 is: HON\n",
      "max in degree in G1 is: NAVI\n",
      "max in degree in G7 is: APTV\n",
      "max in degree in G30 is: APTV\n",
      "min in degree in G0 is: CHD\n",
      "min in degree in G1 is: DWDP\n",
      "min in degree in G7 is: ABBV\n",
      "min in degree in G30 is: CHD\n"
     ]
    }
   ],
   "source": [
    "print(f'max in degree in G0 is: {get_degree_extrema(G0, \"max\", \"in\")}')\n",
    "print(f'max in degree in G1 is: {get_degree_extrema(G1, \"max\", \"in\")}')\n",
    "print(f'max in degree in G7 is: {get_degree_extrema(G7, \"max\", \"in\")}')\n",
    "print(f'max in degree in G30 is: {get_degree_extrema(G30, \"max\", \"in\")}')\n",
    "print(f'min in degree in G0 is: {get_degree_extrema(G0, \"min\", \"in\")}')\n",
    "print(f'min in degree in G1 is: {get_degree_extrema(G1, \"min\", \"in\")}')\n",
    "print(f'min in degree in G7 is: {get_degree_extrema(G7, \"min\", \"in\")}')\n",
    "print(f'min in degree in G30 is: {get_degree_extrema(G30, \"min\", \"in\")}')"
   ]
  },
  {
   "cell_type": "code",
   "execution_count": 54,
   "id": "2fb77c3a",
   "metadata": {},
   "outputs": [
    {
     "name": "stdout",
     "output_type": "stream",
     "text": [
      "max out degree out G0 is: HON\n",
      "max out degree out G1 is: INCY\n",
      "max out degree out G7 is: APTV\n",
      "max out degree out G30 is: BHF\n",
      "min out degree out G0 is: CHD\n",
      "min out degree out G1 is: APTV\n",
      "min out degree out G7 is: SYY\n",
      "min out degree out G30 is: APTV\n"
     ]
    }
   ],
   "source": [
    "print(f'max out degree out G0 is: {get_degree_extrema(G0, \"max\", \"out\")}')\n",
    "print(f'max out degree out G1 is: {get_degree_extrema(G1, \"max\", \"out\")}')\n",
    "print(f'max out degree out G7 is: {get_degree_extrema(G7, \"max\", \"out\")}')\n",
    "print(f'max out degree out G30 is: {get_degree_extrema(G30, \"max\", \"out\")}')\n",
    "print(f'min out degree out G0 is: {get_degree_extrema(G0, \"min\", \"out\")}')\n",
    "print(f'min out degree out G1 is: {get_degree_extrema(G1, \"min\", \"out\")}')\n",
    "print(f'min out degree out G7 is: {get_degree_extrema(G7, \"min\", \"out\")}')\n",
    "print(f'min out degree out G30 is: {get_degree_extrema(G30, \"min\", \"out\")}')"
   ]
  },
  {
   "cell_type": "code",
   "execution_count": 81,
   "id": "c6569fca",
   "metadata": {},
   "outputs": [],
   "source": [
    "def split_directed_graph(graph):\n",
    "    graph1 = nx.Graph()\n",
    "    graph2 = nx.Graph()\n",
    "\n",
    "    for u, v, data in graph.edges(data=True):\n",
    "        weight = data.get('weight', 1)  # Default weight is 1 if not specified\n",
    "        graph1.add_edge(u, v, weight=weight)\n",
    "        graph2.add_edge(v, u, weight=weight)\n",
    "\n",
    "    return graph1, graph2"
   ]
  },
  {
   "cell_type": "code",
   "execution_count": 82,
   "id": "105b94d2",
   "metadata": {},
   "outputs": [],
   "source": [
    "G0_split1, G0_split2 = split_directed_graph(G0)\n",
    "G1_split1, G1_split2 = split_directed_graph(G1)\n",
    "G7_split1, G7_split2 = split_directed_graph(G7)\n",
    "G30_split1, G30_split2 = split_directed_graph(G30)"
   ]
  },
  {
   "cell_type": "code",
   "execution_count": 83,
   "id": "4dfdc22e",
   "metadata": {},
   "outputs": [],
   "source": [
    "# Use the Louvain community detection algorithm to partition the graph into connecrted communities (doesn't work for asymetric graph)\n",
    "def find_communities(graph):\n",
    "    return nx.community.louvain_communities(graph, seed=123)"
   ]
  },
  {
   "cell_type": "code",
   "execution_count": 84,
   "id": "12cac4cb",
   "metadata": {},
   "outputs": [],
   "source": [
    "G0_split1_community = find_communities(G0_split1)\n",
    "G0_split2_community = find_communities(G0_split2)\n",
    "G1_split1_community = find_communities(G1_split1)\n",
    "G1_split2_community = find_communities(G1_split2)\n",
    "G7_split1_community = find_communities(G7_split1)\n",
    "G7_split2_community = find_communities(G7_split2)\n",
    "G30_split1_community = find_communities(G30_split1)\n",
    "G30_split2_community = find_communities(G30_split2)"
   ]
  },
  {
   "cell_type": "code",
   "execution_count": 85,
   "id": "72ec2a75",
   "metadata": {},
   "outputs": [],
   "source": [
    "#filter communites to only include multi-node communities (remove communities of single stock)\n",
    "def filter_communities(community):\n",
    "    return [c for c in community if len(c) > 1]"
   ]
  },
  {
   "cell_type": "code",
   "execution_count": 86,
   "id": "4a7cb58d",
   "metadata": {},
   "outputs": [],
   "source": [
    "G0_split1_community = filter_communities(G0_split1_community)\n",
    "G0_split2_community = filter_communities(G0_split2_community)\n",
    "G1_split1_community = filter_communities(G1_split1_community)\n",
    "G1_split2_community = filter_communities(G1_split2_community)\n",
    "G7_split1_community = filter_communities(G7_split1_community)\n",
    "G7_split2_community = filter_communities(G7_split2_community)\n",
    "G30_split1_community = filter_communities(G30_split1_community)\n",
    "G30_split2_community = filter_communities(G30_split2_community)"
   ]
  },
  {
   "cell_type": "code",
   "execution_count": 87,
   "id": "189a23bf",
   "metadata": {},
   "outputs": [
    {
     "name": "stdout",
     "output_type": "stream",
     "text": [
      "4\n",
      "4\n",
      "3\n",
      "3\n",
      "4\n",
      "4\n",
      "2\n",
      "2\n"
     ]
    }
   ],
   "source": [
    "print(len(G0_split1_community))\n",
    "print(len(G0_split2_community))\n",
    "print(len(G1_split1_community))\n",
    "print(len(G1_split2_community))\n",
    "print(len(G7_split1_community))\n",
    "print(len(G7_split2_community))\n",
    "print(len(G30_split1_community))\n",
    "print(len(G30_split2_community))"
   ]
  },
  {
   "cell_type": "code",
   "execution_count": 90,
   "id": "f59a0b9e",
   "metadata": {},
   "outputs": [],
   "source": [
    "def get_community_names(communities, graph):\n",
    "    res = list()\n",
    "    for community in communities:\n",
    "        add = list()\n",
    "        for stock in community:\n",
    "            add.append(graph.nodes[stock]['name'])\n",
    "        res.append(add)\n",
    "    return res"
   ]
  },
  {
   "cell_type": "code",
   "execution_count": 91,
   "id": "b551b0af",
   "metadata": {},
   "outputs": [],
   "source": [
    "community_names0_split1 = get_community_names(G0_split1_community, G0)\n",
    "community_names0_split2 = get_community_names(G0_split2_community, G0)\n",
    "community_names1_split1 = get_community_names(G1_split1_community, G1)\n",
    "community_names1_split2 = get_community_names(G1_split2_community, G1)\n",
    "community_names7_split1 = get_community_names(G7_split1_community, G7)\n",
    "community_names7_split2 = get_community_names(G7_split2_community, G7)\n",
    "community_names30_split1 = get_community_names(G30_split1_community, G30)\n",
    "community_names30_split2 = get_community_names(G30_split2_community, G30)"
   ]
  },
  {
   "cell_type": "code",
   "execution_count": 93,
   "id": "8227893c",
   "metadata": {},
   "outputs": [
    {
     "name": "stdout",
     "output_type": "stream",
     "text": [
      "[['AAPL', 'ABBV', 'ABC', 'ABT', 'ACN', 'ADBE', 'ADI', 'ADSK', 'ADS', 'AET', 'AGN', 'AKAM', 'ALGN', 'ALLE', 'ALXN', 'AMAT', 'AMD', 'AMGN', 'AMZN', 'ANSS', 'ANTM', 'APH', 'APTV', 'ATVI', 'AVGO', 'AVY', 'A', 'BAX', 'BDX', 'BIIB', 'BMY', 'BSX', 'CAH', 'CA', 'CCL', 'CDNS', 'CELG', 'CERN', 'CI', 'CNC', 'COO', 'CRM', 'CSCO', 'CTSH', 'CTXS', 'DGX', 'DHR', 'DISH', 'DVA', 'DXC', 'EA', 'EBAY', 'EFX', 'ESRX', 'EVHC', 'EW', 'EXPE', 'FB', 'FFIV', 'FISV', 'FIS', 'GILD', 'GOOGL', 'GOOG', 'GPN', 'HCA', 'HOLX', 'HPQ', 'HRS', 'HSIC', 'HUM', 'IDXX', 'ILMN', 'INCY', 'INFO', 'INTC', 'INTU', 'IQV', 'ISRG', 'IT', 'JNPR', 'KLAC', 'LH', 'LLY', 'LRCX', 'MA', 'MCHP', 'MCK', 'MCO', 'MDT', 'MGM', 'MRK', 'MSFT', 'MSI', 'MTD', 'MU', 'MYL', 'NCLH', 'NFLX', 'NVDA', 'NWL', 'ORCL', 'PCLN', 'PDCO', 'PFE', 'PKI', 'PRGO', 'PYPL', 'QCOM', 'QRVO', 'RCL', 'REGN', 'RHT', 'RMD', 'SNPS', 'SPGI', 'SWKS', 'SYK', 'SYMC', 'TDG', 'TEL', 'TMO', 'TRIP', 'TSS', 'TXN', 'UHS', 'UNH', 'VAR', 'VRSK', 'VRSN', 'VRTX', 'V', 'WAT', 'WBA', 'WDC', 'XLNX', 'XRAY', 'YUM', 'ZBH', 'ZTS'], ['JNJ', 'KHC', 'KIM', 'ADP', 'AEE', 'AEP', 'AES', 'KMB', 'KO', 'AIV', 'K', 'LMT', 'LNT', 'AMT', 'MAA', 'MAC', 'AON', 'MCD', 'ARE', 'MDLZ', 'AVB', 'MKC', 'AWK', 'MMC', 'MMM', 'MNST', 'MO', 'BF.B', 'BLL', 'NEE', 'BXP', 'CAG', 'NI', 'NOC', 'CB', 'CCI', 'CHD', 'CINF', 'O', 'PAYX', 'CLX', 'CL', 'PCG', 'PEG', 'CMS', 'CNP', 'PEP', 'PGR', 'PG', 'COST', 'CPB', 'PM', 'PLD', 'PNW', 'CTAS', 'PPL', 'CTL', 'PSA', 'CVS', 'REG', 'DLR', 'DPS', 'DRE', 'DTE', 'DUK', 'RSG', 'RTN', 'SBAC', 'D', 'SCG', 'SEE', 'ED', 'EIX', 'SLG', 'EL', 'SJM', 'EQIX', 'EQR', 'SPG', 'SRCL', 'ESS', 'ES', 'SRE', 'SO', 'STZ', 'ETR', 'EXC', 'EXR', 'SYY', 'TAP', 'FE', 'TRV', 'TSN', 'FRT', 'T', 'UDR', 'GGP', 'GIS', 'VNO', 'VTR', 'VZ', 'HCP', 'HCN', 'WEC', 'WMT', 'WM', 'HRL', 'WY', 'HST', 'HSY', 'XEL', 'IFF', 'IRM'], ['AAL', 'ADM', 'AFL', 'AIG', 'AIZ', 'AJG', 'ALB', 'ALK', 'ALL', 'AME', 'AMG', 'AMP', 'ANDV', 'AOS', 'APA', 'APC', 'APD', 'ARNC', 'AXP', 'AYI', 'BAC', 'BA', 'BBT', 'BEN', 'BHF', 'BHGE', 'BK', 'BLK', 'BRK.B', 'BWA', 'CAT', 'CBG', 'CBOE', 'CBS', 'CFG', 'CF', 'CHK', 'CHRW', 'CMA', 'CME', 'CMI', 'COF', 'COG', 'COL', 'COP', 'CSRA', 'CSX', 'CVX', 'CXO', 'C', 'DAL', 'DE', 'DFS', 'DISCA', 'DISCK', 'DOV', 'DVN', 'DWDP', 'ECL', 'EMN', 'EMR', 'EOG', 'EQT', 'ETFC', 'ETN', 'EXPD', 'FAST', 'FCX', 'FDX', 'FITB', 'FLIR', 'FLR', 'FLS', 'FMC', 'FOXA', 'FOX', 'FTI', 'FTV', 'F', 'GD', 'GE', 'GLW', 'GM', 'GRMN', 'GS', 'GT', 'GWW', 'HAL', 'HBAN', 'HES', 'HIG', 'HII', 'HLT', 'HOG', 'HON', 'HPE', 'HP', 'IBM', 'ICE', 'IP', 'IR', 'ITW', 'IVZ', 'JBHT', 'JCI', 'JEC', 'JPM', 'KEY', 'KMI', 'KMX', 'KSU', 'LLL', 'LNC', 'LUK', 'LUV', 'LYB', 'L', 'MAT', 'MET', 'MLM', 'MON', 'MOS', 'MPC', 'MRO', 'MS', 'MTB', 'NAVI', 'NBL', 'NDAQ', 'NEM', 'NFX', 'NOV', 'NRG', 'NSC', 'NTAP', 'NTRS', 'NUE', 'NWSA', 'NWS', 'OKE', 'OXY', 'PBCT', 'PCAR', 'PFG', 'PH', 'PKG', 'PNC', 'PNR', 'PPG', 'PRU', 'PSX', 'PWR', 'PXD', 'PX', 'RE', 'RF', 'RHI', 'RJF', 'ROK', 'ROP', 'RRC', 'SCHW', 'SLB', 'SNA', 'SNI', 'STI', 'STT', 'STX', 'SWK', 'SYF', 'TMK', 'TROW', 'TWX', 'TXT', 'UAL', 'UNM', 'UNP', 'UPS', 'URI', 'USB', 'UTX', 'VIAB', 'VLO', 'VMC', 'WFC', 'WLTW', 'WMB', 'WRK', 'WU', 'WYNN', 'XEC', 'XL', 'XOM', 'XRX', 'XYL', 'ZION'], ['AAP', 'DG', 'DHI', 'JWN', 'DIS', 'DLTR', 'RL', 'KORS', 'DRI', 'ROST', 'KSS', 'KR', 'LB', 'LEG', 'SBUX', 'LEN', 'LKQ', 'SHW', 'SIG', 'LOW', 'MAR', 'MAS', 'FBHS', 'MHK', 'TGT', 'TIF', 'TJX', 'AZO', 'TPR', 'TSCO', 'BBY', 'FL', 'UAA', 'UA', 'M', 'ULTA', 'GPC', 'NKE', 'GPS', 'NLSN', 'VFC', 'HAS', 'HBI', 'HD', 'OMC', 'CHTR', 'ORLY', 'WHR', 'CMCSA', 'CMG', 'HRB', 'WYN', 'PHM', 'COTY', 'IPG', 'PVH']]\n"
     ]
    }
   ],
   "source": [
    "print(community_names0_split1)"
   ]
  },
  {
   "cell_type": "code",
   "execution_count": 94,
   "id": "ff354002",
   "metadata": {},
   "outputs": [
    {
     "name": "stdout",
     "output_type": "stream",
     "text": [
      "[['AAPL', 'ABBV', 'ABC', 'ABT', 'ACN', 'ADBE', 'ADI', 'ADSK', 'ADS', 'AET', 'AGN', 'AKAM', 'ALGN', 'ALLE', 'ALXN', 'AMAT', 'AMD', 'AMGN', 'AMZN', 'ANSS', 'ANTM', 'APH', 'APTV', 'ATVI', 'AVGO', 'AVY', 'A', 'BAX', 'BDX', 'BIIB', 'BMY', 'BSX', 'CAH', 'CA', 'CCL', 'CDNS', 'CELG', 'CERN', 'CI', 'CNC', 'COO', 'CRM', 'CSCO', 'CTSH', 'CTXS', 'DGX', 'DHR', 'DISH', 'DVA', 'DXC', 'EA', 'EBAY', 'EFX', 'ESRX', 'EVHC', 'EW', 'EXPE', 'FB', 'FFIV', 'FISV', 'FIS', 'GILD', 'GOOGL', 'GOOG', 'GPN', 'HCA', 'HOLX', 'HPQ', 'HRS', 'HSIC', 'HUM', 'IDXX', 'ILMN', 'INCY', 'INFO', 'INTC', 'INTU', 'IQV', 'ISRG', 'IT', 'JNPR', 'KLAC', 'LH', 'LLY', 'LRCX', 'MA', 'MCHP', 'MCK', 'MCO', 'MDT', 'MGM', 'MRK', 'MSFT', 'MSI', 'MTD', 'MU', 'MYL', 'NCLH', 'NFLX', 'NVDA', 'NWL', 'ORCL', 'PCLN', 'PDCO', 'PFE', 'PKI', 'PRGO', 'PYPL', 'QCOM', 'QRVO', 'RCL', 'REGN', 'RHT', 'RMD', 'SNPS', 'SPGI', 'SWKS', 'SYK', 'SYMC', 'TDG', 'TEL', 'TMO', 'TRIP', 'TSS', 'TXN', 'UHS', 'UNH', 'VAR', 'VRSK', 'VRSN', 'VRTX', 'V', 'WAT', 'WBA', 'WDC', 'XLNX', 'XRAY', 'YUM', 'ZBH', 'ZTS'], ['JNJ', 'KHC', 'KIM', 'ADP', 'AEE', 'AEP', 'AES', 'KMB', 'KO', 'AIV', 'K', 'LMT', 'LNT', 'AMT', 'MAA', 'MAC', 'AON', 'MCD', 'ARE', 'MDLZ', 'AVB', 'MKC', 'AWK', 'MMC', 'MMM', 'MNST', 'MO', 'BF.B', 'BLL', 'NEE', 'BXP', 'CAG', 'NI', 'NOC', 'CB', 'CCI', 'CHD', 'CINF', 'O', 'PAYX', 'CLX', 'CL', 'PCG', 'PEG', 'CMS', 'CNP', 'PEP', 'PGR', 'PG', 'COST', 'CPB', 'PM', 'PLD', 'PNW', 'CTAS', 'PPL', 'CTL', 'PSA', 'CVS', 'REG', 'DLR', 'DPS', 'DRE', 'DTE', 'DUK', 'RSG', 'RTN', 'SBAC', 'D', 'SCG', 'SEE', 'ED', 'EIX', 'SLG', 'EL', 'SJM', 'EQIX', 'EQR', 'SPG', 'SRCL', 'ESS', 'ES', 'SRE', 'SO', 'STZ', 'ETR', 'EXC', 'EXR', 'SYY', 'TAP', 'FE', 'TRV', 'TSN', 'FRT', 'T', 'UDR', 'GGP', 'GIS', 'VNO', 'VTR', 'VZ', 'HCP', 'HCN', 'WEC', 'WMT', 'WM', 'HRL', 'WY', 'HST', 'HSY', 'XEL', 'IFF', 'IRM'], ['AAL', 'ADM', 'AFL', 'AIG', 'AIZ', 'AJG', 'ALB', 'ALK', 'ALL', 'AME', 'AMG', 'AMP', 'ANDV', 'AOS', 'APA', 'APC', 'APD', 'ARNC', 'AXP', 'AYI', 'BAC', 'BA', 'BBT', 'BEN', 'BHF', 'BHGE', 'BK', 'BLK', 'BRK.B', 'BWA', 'CAT', 'CBG', 'CBOE', 'CBS', 'CFG', 'CF', 'CHK', 'CHRW', 'CMA', 'CME', 'CMI', 'COF', 'COG', 'COL', 'COP', 'CSRA', 'CSX', 'CVX', 'CXO', 'C', 'DAL', 'DE', 'DFS', 'DISCA', 'DISCK', 'DOV', 'DVN', 'DWDP', 'ECL', 'EMN', 'EMR', 'EOG', 'EQT', 'ETFC', 'ETN', 'EXPD', 'FAST', 'FCX', 'FDX', 'FITB', 'FLIR', 'FLR', 'FLS', 'FMC', 'FOXA', 'FOX', 'FTI', 'FTV', 'F', 'GD', 'GE', 'GLW', 'GM', 'GRMN', 'GS', 'GT', 'GWW', 'HAL', 'HBAN', 'HES', 'HIG', 'HII', 'HLT', 'HOG', 'HON', 'HPE', 'HP', 'IBM', 'ICE', 'IP', 'IR', 'ITW', 'IVZ', 'JBHT', 'JCI', 'JEC', 'JPM', 'KEY', 'KMI', 'KMX', 'KSU', 'LLL', 'LNC', 'LUK', 'LUV', 'LYB', 'L', 'MAT', 'MET', 'MLM', 'MON', 'MOS', 'MPC', 'MRO', 'MS', 'MTB', 'NAVI', 'NBL', 'NDAQ', 'NEM', 'NFX', 'NOV', 'NRG', 'NSC', 'NTAP', 'NTRS', 'NUE', 'NWSA', 'NWS', 'OKE', 'OXY', 'PBCT', 'PCAR', 'PFG', 'PH', 'PKG', 'PNC', 'PNR', 'PPG', 'PRU', 'PSX', 'PWR', 'PXD', 'PX', 'RE', 'RF', 'RHI', 'RJF', 'ROK', 'ROP', 'RRC', 'SCHW', 'SLB', 'SNA', 'SNI', 'STI', 'STT', 'STX', 'SWK', 'SYF', 'TMK', 'TROW', 'TWX', 'TXT', 'UAL', 'UNM', 'UNP', 'UPS', 'URI', 'USB', 'UTX', 'VIAB', 'VLO', 'VMC', 'WFC', 'WLTW', 'WMB', 'WRK', 'WU', 'WYNN', 'XEC', 'XL', 'XOM', 'XRX', 'XYL', 'ZION'], ['AAP', 'DG', 'DHI', 'JWN', 'DIS', 'DLTR', 'RL', 'KORS', 'DRI', 'ROST', 'KSS', 'KR', 'LB', 'LEG', 'SBUX', 'LEN', 'LKQ', 'SHW', 'SIG', 'LOW', 'MAR', 'MAS', 'FBHS', 'MHK', 'TGT', 'TIF', 'TJX', 'AZO', 'TPR', 'TSCO', 'BBY', 'FL', 'UAA', 'UA', 'M', 'ULTA', 'GPC', 'NKE', 'GPS', 'NLSN', 'VFC', 'HAS', 'HBI', 'HD', 'OMC', 'CHTR', 'ORLY', 'WHR', 'CMCSA', 'CMG', 'HRB', 'WYN', 'PHM', 'COTY', 'IPG', 'PVH']]\n"
     ]
    }
   ],
   "source": [
    "print(community_names0_split2)"
   ]
  },
  {
   "cell_type": "code",
   "execution_count": 95,
   "id": "1a44d568",
   "metadata": {},
   "outputs": [
    {
     "name": "stdout",
     "output_type": "stream",
     "text": [
      "[['AAPL', 'ABBV', 'ACN', 'ADBE', 'ADI', 'ADP', 'AEE', 'AEP', 'AES', 'AET', 'AFL', 'AGN', 'AIV', 'AIZ', 'AKAM', 'ALK', 'ALLE', 'ALL', 'ALXN', 'AMAT', 'AMD', 'AMGN', 'AMT', 'AMZN', 'ANDV', 'ANSS', 'AON', 'AOS', 'APTV', 'ARE', 'ATVI', 'AVB', 'AVGO', 'AVY', 'AWK', 'AZO', 'A', 'BBY', 'BDX', 'BF.B', 'BIIB', 'BLL', 'BMY', 'BRK.B', 'BSX', 'BXP', 'CAG', 'CBOE', 'CB', 'CCI', 'CDNS', 'CELG', 'CERN', 'CHD', 'CINF', 'CLX', 'CL', 'CMS', 'COG', 'COO', 'CPB', 'CRM', 'CSCO', 'CTAS', 'CTSH', 'CVS', 'CVX', 'DE', 'DG', 'DHR', 'DIS', 'DLR', 'DPS', 'DRE', 'DTE', 'DUK', 'DWDP', 'DXC', 'D', 'EA', 'EBAY', 'ED', 'EIX', 'EL', 'EQIX', 'EQR', 'EQT', 'ESS', 'ES', 'ETR', 'EW', 'EXC', 'EXPE', 'EXR', 'FB', 'FE', 'FISV', 'FIS', 'FOXA', 'FOX', 'FRT', 'FTI', 'FTV', 'GILD', 'GIS', 'GOOGL', 'GOOG', 'GPN', 'HCN', 'HCP', 'HOLX', 'HON', 'HPE', 'HRL', 'HSIC', 'HSY', 'ICE', 'IDXX', 'IFF', 'ILMN', 'INFO', 'INTC', 'IQV', 'ISRG', 'IT', 'JNJ', 'KHC', 'KIM', 'KLAC', 'KMB', 'KO', 'KR', 'K', 'LEG', 'LLL', 'LLY', 'LMT', 'LNT', 'LRCX', 'LUV', 'MAA', 'MAC', 'MA', 'MCD', 'MCHP', 'MDLZ', 'MDT', 'MKC', 'MNST', 'MO', 'MRK', 'MSFT', 'MTD', 'NDAQ', 'NEE', 'NFLX', 'NI', 'NKE', 'NOC', 'NWL', 'NVDA', 'ORLY', 'O', 'PCG', 'PDCO', 'PEG', 'PEP', 'PFE', 'PG', 'PKG', 'PLD', 'PM', 'PNW', 'PPL', 'PSA', 'QRVO', 'REG', 'ROP', 'ROST', 'RSG', 'RTN', 'SBAC', 'SBUX', 'SCG', 'SEE', 'SO', 'SRE', 'STZ', 'SWKS', 'SYK', 'SYY', 'TAP', 'TJX', 'TMO', 'TSN', 'TWX', 'T', 'UDR', 'ULTA', 'UNH', 'USB', 'UTX', 'VAR', 'VLO', 'VRSN', 'VTR', 'VZ', 'V', 'WAT', 'WEC', 'WFC', 'WMT', 'WM', 'WRK', 'XEL', 'XOM', 'XRX', 'ZBH', 'ZTS'], ['KSU', 'L', 'MMC', 'MON', 'BAC', 'MYL', 'NEM', 'CAH', 'NOV', 'ORCL', 'CME', 'CSX', 'FBHS', 'GE', 'GLW', 'GPC', 'GPS', 'HCA', 'IPG'], ['AAL', 'AAP', 'ABC', 'ABT', 'ADM', 'ADSK', 'ADS', 'AIG', 'AJG', 'ALB', 'ALGN', 'AME', 'AMG', 'AMP', 'ANTM', 'APA', 'APC', 'APD', 'APH', 'ARNC', 'AXP', 'AYI', 'BAX', 'BA', 'BBT', 'BEN', 'BHF', 'BHGE', 'BK', 'BLK', 'BWA', 'CAT', 'CA', 'CBG', 'CBS', 'CCL', 'CFG', 'CF', 'CHK', 'CHRW', 'CHTR', 'CI', 'CMA', 'CMCSA', 'CMG', 'CMI', 'CNC', 'CNP', 'COF', 'COL', 'COP', 'COST', 'COTY', 'CSRA', 'CTL', 'CTXS', 'CXO', 'C', 'DAL', 'DFS', 'DGX', 'DHI', 'DISCA', 'DISCK', 'DISH', 'DLTR', 'DOV', 'DRI', 'DVA', 'DVN', 'ECL', 'EFX', 'EMN', 'EMR', 'EOG', 'ESRX', 'ETFC', 'ETN', 'EVHC', 'EXPD', 'FAST', 'FCX', 'FDX', 'FFIV', 'FITB', 'FLIR', 'FLR', 'FLS', 'FL', 'FMC', 'F', 'GD', 'GGP', 'GM', 'GRMN', 'GS', 'GT', 'GWW', 'HAL', 'HAS', 'HBAN', 'HBI', 'HD', 'HES', 'HIG', 'HII', 'HLT', 'HOG', 'HPQ', 'HP', 'HRB', 'HRS', 'HST', 'HUM', 'IBM', 'INCY', 'INTU', 'IP', 'IRM', 'IR', 'ITW', 'IVZ', 'JBHT', 'JCI', 'JEC', 'JNPR', 'JPM', 'JWN', 'KEY', 'KMI', 'KMX', 'KORS', 'KSS', 'LB', 'LEN', 'LH', 'LKQ', 'LNC', 'LOW', 'LUK', 'LYB', 'MAR', 'MAS', 'MAT', 'MCK', 'MCO', 'MET', 'MGM', 'MHK', 'MLM', 'MMM', 'MOS', 'MPC', 'MRO', 'MSI', 'MS', 'MTB', 'MU', 'M', 'NAVI', 'NBL', 'NCLH', 'NFX', 'NLSN', 'NRG', 'NSC', 'NTAP', 'NTRS', 'NUE', 'NWSA', 'NWS', 'OKE', 'OMC', 'OXY', 'PAYX', 'PBCT', 'PCAR', 'PCLN', 'PFG', 'PGR', 'PHM', 'PH', 'PKI', 'PNC', 'PNR', 'PPG', 'PRGO', 'PRU', 'PSX', 'PVH', 'PWR', 'PXD', 'PX', 'PYPL', 'QCOM', 'RCL', 'REGN', 'RE', 'RF', 'RHI', 'RHT', 'RJF', 'RL', 'RMD', 'ROK', 'RRC', 'SCHW', 'SHW', 'SIG', 'SJM', 'SLG', 'SNA', 'SNI', 'SNPS', 'SLB', 'SPGI', 'SPG', 'SRCL', 'STI', 'STT', 'STX', 'SWK', 'SYF', 'SYMC', 'TDG', 'TEL', 'TGT', 'TIF', 'TMK', 'TPR', 'TRIP', 'TROW', 'TRV', 'TSCO', 'TSS', 'TXN', 'TXT', 'UAA', 'UAL', 'UA', 'UHS', 'UNM', 'UNP', 'UPS', 'URI', 'VFC', 'VIAB', 'VMC', 'VNO', 'VRSK', 'VRTX', 'WBA', 'WDC', 'WHR', 'WLTW', 'WMB', 'WU', 'WYNN', 'WYN', 'WY', 'XEC', 'XLNX', 'XL', 'XRAY', 'XYL', 'YUM', 'ZION']]\n"
     ]
    }
   ],
   "source": [
    "print(community_names1_split1)"
   ]
  },
  {
   "cell_type": "code",
   "execution_count": 96,
   "id": "d1b398a6",
   "metadata": {},
   "outputs": [
    {
     "name": "stdout",
     "output_type": "stream",
     "text": [
      "[['AAPL', 'ABBV', 'ACN', 'ADBE', 'ADI', 'ADP', 'AEE', 'AEP', 'AES', 'AET', 'AFL', 'AGN', 'AIV', 'AIZ', 'AKAM', 'ALK', 'ALLE', 'ALL', 'ALXN', 'AMAT', 'AMD', 'AMGN', 'AMT', 'AMZN', 'ANDV', 'ANSS', 'AON', 'AOS', 'APTV', 'ARE', 'ATVI', 'AVB', 'AVGO', 'AVY', 'AWK', 'AZO', 'A', 'BBY', 'BDX', 'BF.B', 'BIIB', 'BLL', 'BMY', 'BRK.B', 'BSX', 'BXP', 'CAG', 'CBOE', 'CB', 'CCI', 'CDNS', 'CELG', 'CERN', 'CHD', 'CINF', 'CLX', 'CL', 'CMS', 'COG', 'COO', 'CPB', 'CRM', 'CSCO', 'CTAS', 'CTSH', 'CVS', 'CVX', 'DE', 'DG', 'DHR', 'DIS', 'DLR', 'DPS', 'DRE', 'DTE', 'DUK', 'DWDP', 'DXC', 'D', 'EA', 'EBAY', 'ED', 'EIX', 'EL', 'EQIX', 'EQR', 'EQT', 'ESS', 'ES', 'ETR', 'EW', 'EXC', 'EXPE', 'EXR', 'FB', 'FE', 'FISV', 'FIS', 'FOXA', 'FOX', 'FRT', 'FTI', 'FTV', 'GILD', 'GIS', 'GOOGL', 'GOOG', 'GPN', 'HCN', 'HCP', 'HOLX', 'HON', 'HPE', 'HRL', 'HSIC', 'HSY', 'ICE', 'IDXX', 'IFF', 'ILMN', 'INFO', 'INTC', 'IQV', 'ISRG', 'IT', 'JNJ', 'KHC', 'KIM', 'KLAC', 'KMB', 'KO', 'KR', 'K', 'LEG', 'LLL', 'LLY', 'LMT', 'LNT', 'LRCX', 'LUV', 'MAA', 'MAC', 'MA', 'MCD', 'MCHP', 'MDLZ', 'MDT', 'MKC', 'MNST', 'MO', 'MRK', 'MSFT', 'MTD', 'NDAQ', 'NEE', 'NFLX', 'NI', 'NKE', 'NOC', 'NWL', 'NVDA', 'ORLY', 'O', 'PCG', 'PDCO', 'PEG', 'PEP', 'PFE', 'PG', 'PKG', 'PLD', 'PM', 'PNW', 'PPL', 'PSA', 'QRVO', 'REG', 'ROP', 'ROST', 'RSG', 'RTN', 'SBAC', 'SBUX', 'SCG', 'SEE', 'SO', 'SRE', 'STZ', 'SWKS', 'SYK', 'SYY', 'TAP', 'TJX', 'TMO', 'TSN', 'TWX', 'T', 'UDR', 'ULTA', 'UNH', 'USB', 'UTX', 'VAR', 'VLO', 'VRSN', 'VTR', 'VZ', 'V', 'WAT', 'WEC', 'WFC', 'WMT', 'WM', 'WRK', 'XEL', 'XOM', 'XRX', 'ZBH', 'ZTS'], ['KSU', 'L', 'MMC', 'MON', 'BAC', 'MYL', 'NEM', 'CAH', 'NOV', 'ORCL', 'CME', 'CSX', 'FBHS', 'GE', 'GLW', 'GPC', 'GPS', 'HCA', 'IPG'], ['AAL', 'AAP', 'ABC', 'ABT', 'ADM', 'ADSK', 'ADS', 'AIG', 'AJG', 'ALB', 'ALGN', 'AME', 'AMG', 'AMP', 'ANTM', 'APA', 'APC', 'APD', 'APH', 'ARNC', 'AXP', 'AYI', 'BAX', 'BA', 'BBT', 'BEN', 'BHF', 'BHGE', 'BK', 'BLK', 'BWA', 'CAT', 'CA', 'CBG', 'CBS', 'CCL', 'CFG', 'CF', 'CHK', 'CHRW', 'CHTR', 'CI', 'CMA', 'CMCSA', 'CMG', 'CMI', 'CNC', 'CNP', 'COF', 'COL', 'COP', 'COST', 'COTY', 'CSRA', 'CTL', 'CTXS', 'CXO', 'C', 'DAL', 'DFS', 'DGX', 'DHI', 'DISCA', 'DISCK', 'DISH', 'DLTR', 'DOV', 'DRI', 'DVA', 'DVN', 'ECL', 'EFX', 'EMN', 'EMR', 'EOG', 'ESRX', 'ETFC', 'ETN', 'EVHC', 'EXPD', 'FAST', 'FCX', 'FDX', 'FFIV', 'FITB', 'FLIR', 'FLR', 'FLS', 'FL', 'FMC', 'F', 'GD', 'GGP', 'GM', 'GRMN', 'GS', 'GT', 'GWW', 'HAL', 'HAS', 'HBAN', 'HBI', 'HD', 'HES', 'HIG', 'HII', 'HLT', 'HOG', 'HPQ', 'HP', 'HRB', 'HRS', 'HST', 'HUM', 'IBM', 'INCY', 'INTU', 'IP', 'IRM', 'IR', 'ITW', 'IVZ', 'JBHT', 'JCI', 'JEC', 'JNPR', 'JPM', 'JWN', 'KEY', 'KMI', 'KMX', 'KORS', 'KSS', 'LB', 'LEN', 'LH', 'LKQ', 'LNC', 'LOW', 'LUK', 'LYB', 'MAR', 'MAS', 'MAT', 'MCK', 'MCO', 'MET', 'MGM', 'MHK', 'MLM', 'MMM', 'MOS', 'MPC', 'MRO', 'MSI', 'MS', 'MTB', 'MU', 'M', 'NAVI', 'NBL', 'NCLH', 'NFX', 'NLSN', 'NRG', 'NSC', 'NTAP', 'NTRS', 'NUE', 'NWSA', 'NWS', 'OKE', 'OMC', 'OXY', 'PAYX', 'PBCT', 'PCAR', 'PCLN', 'PFG', 'PGR', 'PHM', 'PH', 'PKI', 'PNC', 'PNR', 'PPG', 'PRGO', 'PRU', 'PSX', 'PVH', 'PWR', 'PXD', 'PX', 'PYPL', 'QCOM', 'RCL', 'REGN', 'RE', 'RF', 'RHI', 'RHT', 'RJF', 'RL', 'RMD', 'ROK', 'RRC', 'SCHW', 'SHW', 'SIG', 'SJM', 'SLG', 'SNA', 'SNI', 'SNPS', 'SLB', 'SPGI', 'SPG', 'SRCL', 'STI', 'STT', 'STX', 'SWK', 'SYF', 'SYMC', 'TDG', 'TEL', 'TGT', 'TIF', 'TMK', 'TPR', 'TRIP', 'TROW', 'TRV', 'TSCO', 'TSS', 'TXN', 'TXT', 'UAA', 'UAL', 'UA', 'UHS', 'UNM', 'UNP', 'UPS', 'URI', 'VFC', 'VIAB', 'VMC', 'VNO', 'VRSK', 'VRTX', 'WBA', 'WDC', 'WHR', 'WLTW', 'WMB', 'WU', 'WYNN', 'WYN', 'WY', 'XEC', 'XLNX', 'XL', 'XRAY', 'XYL', 'YUM', 'ZION']]\n"
     ]
    }
   ],
   "source": [
    "print(community_names1_split2)"
   ]
  },
  {
   "cell_type": "code",
   "execution_count": 97,
   "id": "83b27508",
   "metadata": {},
   "outputs": [
    {
     "name": "stdout",
     "output_type": "stream",
     "text": [
      "[['KORS', 'KSS', 'LRCX', 'MAA', 'MAT', 'MCD', 'MCHP', 'APTV', 'MOS', 'NEM', 'NOV', 'NUE', 'NVDA', 'ORCL', 'COG', 'PH', 'CXO', 'RRC', 'DWDP', 'EA', 'SLB', 'SNA', 'SNI', 'ESRX', 'ESS', 'SWKS', 'EXR', 'GILD', 'XOM', 'INTC'], ['AAL', 'AAPL', 'AAP', 'ABBV', 'ABC', 'ABT', 'ACN', 'ADBE', 'ADI', 'ADM', 'ADP', 'ADSK', 'ADS', 'AES', 'AET', 'AFL', 'AGN', 'AIG', 'AIV', 'AIZ', 'AJG', 'AKAM', 'ALGN', 'ALK', 'ALLE', 'ALL', 'ALXN', 'AMAT', 'AMD', 'AME', 'AMGN', 'AMG', 'AMP', 'AMZN', 'ANSS', 'ANTM', 'AON', 'AOS', 'APA', 'APC', 'APD', 'APH', 'ARE', 'ARNC', 'AVGO', 'AVY', 'AXP', 'AYI', 'A', 'BAC', 'BAX', 'BA', 'BBT', 'BBY', 'BEN', 'BF.B', 'BHF', 'BHGE', 'BK', 'BLK', 'BLL', 'BRK.B', 'BWA', 'BXP', 'CAG', 'CAH', 'CA', 'CBG', 'CBOE', 'CCL', 'CDNS', 'CELG', 'CHD', 'CHK', 'CHRW', 'CHTR', 'CINF', 'CI', 'CMA', 'CMCSA', 'CME', 'CMG', 'CMI', 'COL', 'COO', 'COST', 'CRM', 'CSCO', 'CSX', 'CTSH', 'CTXS', 'CVS', 'DAL', 'DE', 'DFS', 'DHI', 'DHR', 'DISCA', 'DISCK', 'DISH', 'DIS', 'DRE', 'DRI', 'DXC', 'EBAY', 'EMN', 'EMR', 'EOG', 'ETN', 'EW', 'EXPD', 'FBHS', 'FCX', 'FDX', 'FFIV', 'FISV', 'FLIR', 'FLR', 'FLS', 'FL', 'FOX', 'FRT', 'FTI', 'FTV', 'F', 'GE', 'GGP', 'GLW', 'GM', 'GPC', 'GPS', 'GRMN', 'HAL', 'HAS', 'HCN', 'HCP', 'HLT', 'HPQ', 'HP', 'HST', 'IBM', 'ICE', 'INCY', 'INTU', 'IPG', 'IP', 'IRM', 'IR', 'ITW', 'JBHT', 'JCI', 'JEC', 'JWN', 'KEY', 'KIM', 'KR', 'LB', 'LEN', 'LKQ', 'LLL', 'LMT', 'LNT', 'LUV', 'MAR', 'MCO', 'MRO', 'NAVI', 'NSC', 'NTAP', 'NWL', 'PAYX', 'PCG', 'PLD', 'UA'], ['ANDV', 'ATVI', 'AZO', 'BDX', 'BMY', 'BSX', 'CERN', 'CFG', 'CNC', 'COF', 'COTY', 'CSRA', 'CTAS', 'C', 'DGX', 'DG', 'DLTR', 'DVA', 'ECL', 'EQIX', 'EQT', 'ETFC', 'EVHC', 'EXPE', 'FB', 'FIS', 'FITB', 'FOXA', 'GD', 'GOOGL', 'GOOG', 'GPN', 'GS', 'GT', 'HBI', 'HCA', 'HBAN', 'HD', 'HIG', 'HII', 'HOG', 'HOLX', 'HON', 'HPE', 'HRB', 'HRS', 'HSIC', 'HUM', 'IDXX', 'ILMN', 'IQV', 'ISRG', 'IT', 'IVZ', 'JPM', 'LH', 'LLY', 'LNC', 'LYB', 'MAS', 'MA', 'MCK', 'MDT', 'MET', 'MGM', 'MLM', 'MNST', 'MON', 'MPC', 'MRK', 'MSFT', 'MSI', 'MS', 'MTB', 'MTD', 'MU', 'MYL', 'M', 'NBL', 'NCLH', 'NDAQ', 'NFLX', 'NFX', 'NKE', 'NLSN', 'NOC', 'NRG', 'NTRS', 'NWS', 'OKE', 'ORLY', 'PBCT', 'PCAR', 'PCLN', 'PDCO', 'PFE', 'PFG', 'PKG', 'PKI', 'PNC', 'PNR', 'PPG', 'PRGO', 'PRU', 'PSX', 'PVH', 'PWR', 'PXD', 'PX', 'PYPL', 'QCOM', 'QRVO', 'RCL', 'REGN', 'RF', 'RHI', 'RHT', 'RJF', 'ROK', 'RTN', 'SCHW', 'SEE', 'SHW', 'SLG', 'SNPS', 'SPGI', 'STI', 'STT', 'STX', 'SWK', 'SYF', 'SYMC', 'TEL', 'TIF', 'TMK', 'TMO', 'TRIP', 'TROW', 'TSN', 'TSS', 'TXT', 'UAL', 'UHS', 'UNH', 'UNM', 'USB', 'VAR', 'VLO', 'VMC', 'VRSK', 'VRTX', 'V', 'WFC', 'WHR', 'WMB', 'WRK', 'WU', 'WYNN', 'WY', 'XEC', 'XL', 'XRX', 'XYL', 'ZION', 'ZTS'], ['AEE', 'AEP', 'ALB', 'AMT', 'AVB', 'AWK', 'BIIB', 'CAT', 'CBS', 'CB', 'CCI', 'CF', 'CLX', 'CL', 'CMS', 'CNP', 'COP', 'CPB', 'CTL', 'CVX', 'DLR', 'DOV', 'DPS', 'DTE', 'DUK', 'DVN', 'D', 'ED', 'EFX', 'EIX', 'EL', 'EQR', 'ES', 'ETR', 'EXC', 'FAST', 'FE', 'FMC', 'GIS', 'GWW', 'HES', 'HRL', 'HSY', 'IFF', 'INFO', 'JNJ', 'JNPR', 'KHC', 'KLAC', 'KMB', 'KMI', 'KMX', 'KO', 'KSU', 'K', 'LEG', 'LOW', 'LUK', 'L', 'MAC', 'MDLZ', 'MHK', 'MKC', 'MMC', 'MMM', 'MO', 'NEE', 'NI', 'NWSA', 'OMC', 'OXY', 'O', 'PEG', 'PEP', 'PGR', 'PG', 'PHM', 'PM', 'PNW', 'PPL', 'PSA', 'REG', 'RE', 'RL', 'RMD', 'ROP', 'ROST', 'RSG', 'SBAC', 'SBUX', 'SCG', 'SIG', 'SJM', 'SO', 'SPG', 'SRCL', 'SRE', 'STZ', 'SYK', 'SYY', 'TAP', 'TDG', 'TGT', 'TJX', 'TPR', 'TRV', 'TSCO', 'TWX', 'TXN', 'T', 'UAA', 'UDR', 'ULTA', 'UNP', 'UPS', 'URI', 'UTX', 'VFC', 'VIAB', 'VNO', 'VRSN', 'VTR', 'VZ', 'WAT', 'WBA', 'WDC', 'WEC', 'WLTW', 'WMT', 'WM', 'WYN', 'XEL', 'XLNX', 'XRAY', 'YUM', 'ZBH']]\n"
     ]
    }
   ],
   "source": [
    "print(community_names7_split1)"
   ]
  },
  {
   "cell_type": "code",
   "execution_count": 98,
   "id": "72725e83",
   "metadata": {},
   "outputs": [
    {
     "name": "stdout",
     "output_type": "stream",
     "text": [
      "[['KORS', 'KSS', 'LRCX', 'MCD', 'MCHP', 'APTV', 'MOS', 'NEM', 'NOV', 'NUE', 'NVDA', 'ORCL', 'COG', 'PH', 'CXO', 'RL', 'RRC', 'DWDP', 'EA', 'SLB', 'SNA', 'SNI', 'ESS', 'SWKS', 'TXN', 'UAA', 'GILD', 'XOM', 'INTC'], ['AAL', 'AAPL', 'AAP', 'ABBV', 'ABC', 'ABT', 'ACN', 'ADBE', 'ADI', 'ADM', 'ADP', 'ADSK', 'ADS', 'AES', 'AET', 'AFL', 'AGN', 'AIG', 'AIV', 'AIZ', 'AJG', 'AKAM', 'ALGN', 'ALK', 'ALLE', 'ALL', 'ALXN', 'AMAT', 'AMD', 'AME', 'AMGN', 'AMG', 'AMP', 'AMZN', 'ANSS', 'ANTM', 'AON', 'AOS', 'APA', 'APC', 'APD', 'APH', 'ARE', 'ARNC', 'AVGO', 'AVY', 'AXP', 'AYI', 'A', 'BAC', 'BAX', 'BA', 'BBT', 'BBY', 'BEN', 'BF.B', 'BHF', 'BHGE', 'BK', 'BLK', 'BLL', 'BRK.B', 'BWA', 'BXP', 'CAH', 'CAG', 'CA', 'CBG', 'CBOE', 'CCL', 'CDNS', 'CELG', 'CHD', 'CHK', 'CHRW', 'CHTR', 'CINF', 'CI', 'CMA', 'CMCSA', 'CME', 'CMG', 'CMI', 'COL', 'COO', 'COST', 'CRM', 'CSCO', 'CSX', 'CTL', 'CTSH', 'CTXS', 'CVS', 'DAL', 'DE', 'DFS', 'DHI', 'DHR', 'DISCA', 'DISCK', 'DISH', 'DIS', 'DRE', 'DRI', 'DXC', 'EBAY', 'EMN', 'EMR', 'EOG', 'ETN', 'EW', 'EXPD', 'FBHS', 'FCX', 'FDX', 'FFIV', 'FISV', 'FLIR', 'FLR', 'FLS', 'FL', 'FOX', 'FRT', 'FTI', 'FTV', 'F', 'GE', 'GGP', 'GLW', 'GM', 'GPC', 'GPS', 'GRMN', 'HAL', 'HAS', 'HBAN', 'HCP', 'HCN', 'HLT', 'HPQ', 'HP', 'HST', 'IBM', 'ICE', 'INCY', 'INTU', 'IPG', 'IP', 'IRM', 'IR', 'ITW', 'JBHT', 'JCI', 'JEC', 'JWN', 'KEY', 'KIM', 'KR', 'LB', 'LEN', 'LKQ', 'LLL', 'LMT', 'LNT', 'LUV', 'MAR', 'MCO', 'MRO', 'MSI', 'NAVI', 'NSC', 'NTAP', 'NWL', 'PAYX', 'PCG', 'PLD', 'UA'], ['ANDV', 'ATVI', 'AZO', 'BDX', 'BMY', 'BSX', 'CERN', 'CFG', 'CNC', 'COF', 'COTY', 'CSRA', 'CTAS', 'C', 'DGX', 'DG', 'DLTR', 'DVA', 'ECL', 'EQIX', 'EQT', 'ESRX', 'ETFC', 'EVHC', 'EXPE', 'FB', 'FIS', 'FITB', 'FOXA', 'GD', 'GOOGL', 'GOOG', 'GPN', 'GS', 'HBI', 'HCA', 'HD', 'HIG', 'HII', 'HOG', 'HOLX', 'HON', 'HPE', 'HRB', 'HRS', 'HSIC', 'HUM', 'IDXX', 'ILMN', 'IQV', 'ISRG', 'IT', 'IVZ', 'JPM', 'KSU', 'LH', 'LLY', 'LNC', 'LYB', 'MAS', 'MA', 'MCK', 'MDT', 'MET', 'MGM', 'MLM', 'MNST', 'MON', 'MPC', 'MRK', 'MSFT', 'MS', 'MTB', 'MTD', 'MU', 'MYL', 'M', 'NBL', 'NCLH', 'NDAQ', 'NFLX', 'NFX', 'NKE', 'NLSN', 'NOC', 'NRG', 'NTRS', 'NWS', 'OKE', 'ORLY', 'PBCT', 'PCAR', 'PCLN', 'PDCO', 'PFE', 'PFG', 'PKG', 'PKI', 'PNC', 'PNR', 'PPG', 'PRGO', 'PRU', 'PSX', 'PVH', 'PWR', 'PXD', 'PX', 'PYPL', 'QCOM', 'QRVO', 'RCL', 'REGN', 'RF', 'RHI', 'RHT', 'RJF', 'ROK', 'RTN', 'SCHW', 'SEE', 'SHW', 'SLG', 'SNPS', 'SPGI', 'STI', 'STT', 'STX', 'SWK', 'SYF', 'SYMC', 'TEL', 'TIF', 'TMK', 'TMO', 'TRIP', 'TROW', 'TSN', 'TSS', 'TXT', 'UAL', 'UHS', 'UNH', 'UNM', 'UNP', 'USB', 'VAR', 'VLO', 'VMC', 'VRSK', 'VRTX', 'VRSN', 'V', 'WFC', 'WHR', 'WMB', 'WRK', 'WU', 'WYNN', 'XEC', 'XL', 'XRX', 'XYL', 'ZION', 'ZTS'], ['AEE', 'AEP', 'ALB', 'AMT', 'AVB', 'AWK', 'BIIB', 'CAT', 'CBS', 'CB', 'CCI', 'CF', 'CLX', 'CL', 'CMS', 'CNP', 'COP', 'CPB', 'CVX', 'DLR', 'DOV', 'DPS', 'DTE', 'DUK', 'DVN', 'D', 'ED', 'EFX', 'EIX', 'EL', 'EQR', 'ES', 'ETR', 'EXC', 'EXR', 'FAST', 'FE', 'FMC', 'GIS', 'GT', 'GWW', 'HES', 'HRL', 'HSY', 'IFF', 'INFO', 'JNJ', 'JNPR', 'KHC', 'KLAC', 'KMB', 'KMI', 'KMX', 'KO', 'K', 'LEG', 'LOW', 'LUK', 'L', 'MAA', 'MAC', 'MAT', 'MDLZ', 'MHK', 'MKC', 'MMC', 'MMM', 'MO', 'NEE', 'NI', 'NWSA', 'OMC', 'OXY', 'O', 'PEG', 'PEP', 'PGR', 'PG', 'PHM', 'PM', 'PNW', 'PPL', 'PSA', 'REG', 'RE', 'RMD', 'ROP', 'ROST', 'RSG', 'SBAC', 'SBUX', 'SCG', 'SIG', 'SJM', 'SO', 'SPG', 'SRCL', 'SRE', 'STZ', 'SYK', 'SYY', 'TAP', 'TDG', 'TGT', 'TJX', 'TPR', 'TRV', 'TSCO', 'TWX', 'T', 'UDR', 'ULTA', 'UPS', 'URI', 'UTX', 'VFC', 'VIAB', 'VNO', 'VTR', 'VZ', 'WAT', 'WBA', 'WDC', 'WEC', 'WLTW', 'WMT', 'WM', 'WYN', 'WY', 'XEL', 'XLNX', 'XRAY', 'YUM', 'ZBH']]\n"
     ]
    }
   ],
   "source": [
    "print(community_names7_split2)"
   ]
  },
  {
   "cell_type": "code",
   "execution_count": 99,
   "id": "aa9e8aba",
   "metadata": {},
   "outputs": [
    {
     "name": "stdout",
     "output_type": "stream",
     "text": [
      "[['AAL', 'ACN', 'ADM', 'ADP', 'ADSK', 'ADS', 'AEE', 'AEP', 'AES', 'AFL', 'AIG', 'AIZ', 'AJG', 'ALLE', 'AMG', 'AMP', 'ANDV', 'ANSS', 'ANTM', 'APA', 'APC', 'APH', 'APTV', 'AVB', 'AWK', 'BAC', 'BBT', 'BEN', 'BHF', 'BHGE', 'BIIB', 'BMY', 'BRK.B', 'BWA', 'BXP', 'CAG', 'CAT', 'CA', 'CBOE', 'CB', 'CDNS', 'CFG', 'CHK', 'CHRW', 'CHTR', 'CINF', 'CI', 'CMA', 'CMCSA', 'CME', 'CMI', 'CMS', 'COF', 'COG', 'COO', 'COP', 'COST', 'COTY', 'CSCO', 'CSRA', 'CSX', 'CTL', 'CTSH', 'CTXS', 'CVX', 'DE', 'DFS', 'DGX', 'DHR', 'DISCA', 'DISCK', 'DISH', 'DIS', 'DRE', 'DTE', 'DUK', 'DVA', 'DVN', 'DWDP', 'D', 'EA', 'EBAY', 'ED', 'EIX', 'EL', 'EOG', 'EQR', 'EQT', 'ESRX', 'ESS', 'ES', 'ETFC', 'ETN', 'ETR', 'EVHC', 'EXC', 'EXPE', 'FE', 'FITB', 'FLIR', 'FLR', 'FLS', 'FOXA', 'FTV', 'F', 'GLW', 'GM', 'GPN', 'GPS', 'GS', 'HBAN', 'HBI', 'HCP', 'HES', 'HLT', 'HPE', 'HPQ', 'HP', 'HST', 'IBM', 'ICE', 'ILMN', 'INTU', 'ISRG', 'ITW', 'IVZ', 'JBHT', 'JCI', 'JNJ', 'JNPR', 'JPM', 'JWN', 'KEY', 'KHC', 'KMI', 'KSS', 'LH', 'LKQ', 'LLY', 'LNC', 'LUK', 'L', 'MAC', 'MA', 'MCK', 'MCO', 'MDLZ', 'MDT', 'MET', 'MGM', 'MMC', 'MON', 'MOS', 'MRK', 'MRO', 'MSFT', 'MSI', 'MS', 'MU', 'MYL', 'M', 'NAVI', 'NBL', 'NDAQ', 'NFX', 'NLSN', 'NOV', 'NTAP', 'NTRS', 'NVDA', 'NWL', 'OXY', 'O', 'PAYX', 'PBCT', 'PCAR', 'PCLN', 'PEG', 'PFG', 'PH', 'PM', 'PNC', 'PNR', 'PPL', 'PRU', 'PVH', 'PWR', 'PX', 'PYPL', 'QCOM', 'REG', 'RF', 'RL', 'RRC', 'RSG', 'RTN', 'SBUX', 'SCHW', 'SIG', 'SLB', 'SO', 'SPGI', 'SPG', 'SRCL', 'STI', 'STT', 'STX', 'STZ', 'SYF', 'SYMC', 'SYY', 'TDG', 'TGT', 'TIF', 'TJX', 'TMK', 'TPR', 'TRIP', 'TROW', 'TSCO', 'TSN', 'TWX', 'TXN', 'T', 'UA', 'ULTA', 'UPS', 'URI', 'USB', 'VIAB', 'VRSK', 'VRSN', 'V', 'WDC', 'WFC', 'WMT', 'WM', 'WRK', 'WY', 'XEC', 'XOM', 'XRX', 'ZION', 'ZTS'], ['AAPL', 'AAP', 'ABBV', 'ABC', 'ABT', 'ADBE', 'ADI', 'AET', 'AGN', 'AIV', 'AKAM', 'ALB', 'ALGN', 'ALK', 'ALL', 'ALXN', 'AMAT', 'AMD', 'AME', 'AMGN', 'AMT', 'AMZN', 'AON', 'AOS', 'APD', 'ARE', 'ARNC', 'ATVI', 'AVGO', 'AVY', 'AXP', 'AYI', 'AZO', 'A', 'BAX', 'BA', 'BBY', 'BDX', 'BF.B', 'BK', 'BLK', 'BLL', 'BSX', 'CAH', 'CBG', 'CBS', 'CCI', 'CCL', 'CELG', 'CERN', 'CF', 'CHD', 'CLX', 'CL', 'CMG', 'CNC', 'CNP', 'COL', 'CPB', 'CRM', 'CTAS', 'CVS', 'CXO', 'C', 'DAL', 'DG', 'DHI', 'DLR', 'DLTR', 'DOV', 'DPS', 'DRI', 'DXC', 'ECL', 'EFX', 'EMN', 'EMR', 'EQIX', 'EW', 'EXPD', 'EXR', 'FAST', 'FBHS', 'FB', 'FCX', 'FDX', 'FFIV', 'FISV', 'FIS', 'FL', 'FMC', 'FOX', 'FRT', 'FTI', 'GD', 'GE', 'GGP', 'GILD', 'GIS', 'GOOGL', 'GOOG', 'GPC', 'GRMN', 'GT', 'GWW', 'HAL', 'HAS', 'HCA', 'HCN', 'HD', 'HIG', 'HII', 'HOG', 'HOLX', 'HON', 'HRB', 'HRL', 'HRS', 'HSIC', 'HSY', 'HUM', 'IDXX', 'IFF', 'INCY', 'INFO', 'INTC', 'IPG', 'IP', 'IQV', 'IRM', 'IR', 'IT', 'JEC', 'KIM', 'KLAC', 'KMB', 'KMX', 'KORS', 'KO', 'KR', 'KSU', 'K', 'LB', 'LEG', 'LEN', 'LLL', 'LMT', 'LNT', 'LOW', 'LRCX', 'LUV', 'LYB', 'MAA', 'MAR', 'MAS', 'MAT', 'MCD', 'MCHP', 'MHK', 'MKC', 'MLM', 'MMM', 'MNST', 'MO', 'MPC', 'MTB', 'MTD', 'NCLH', 'NEE', 'NEM', 'NFLX', 'NI', 'NKE', 'NOC', 'NRG', 'NSC', 'NUE', 'NWSA', 'NWS', 'OKE', 'OMC', 'ORCL', 'ORLY', 'PCG', 'PDCO', 'PEP', 'PFE', 'PGR', 'PG', 'PHM', 'PKG', 'PKI', 'PLD', 'PNW', 'PPG', 'PRGO', 'PSA', 'PSX', 'PXD', 'QRVO', 'RCL', 'REGN', 'RE', 'RHI', 'RHT', 'RJF', 'RMD', 'ROK', 'ROP', 'ROST', 'SBAC', 'SCG', 'SEE', 'SHW', 'SJM', 'SLG', 'SNA', 'SNI', 'SNPS', 'SRE', 'SWKS', 'SWK', 'SYK', 'TAP', 'TEL', 'TMO', 'TRV', 'TSS', 'TXT', 'UAA', 'UAL', 'UDR', 'UHS', 'UNH', 'UNM', 'UNP', 'UTX', 'VAR', 'VFC', 'VLO', 'VMC', 'VNO', 'VRTX', 'VTR', 'VZ', 'WAT', 'WBA', 'WEC', 'WHR', 'WLTW', 'WMB', 'WU', 'WYNN', 'WYN', 'XEL', 'XLNX', 'XL', 'XRAY', 'XYL', 'YUM', 'ZBH']]\n"
     ]
    }
   ],
   "source": [
    "print(community_names30_split1)"
   ]
  },
  {
   "cell_type": "code",
   "execution_count": 100,
   "id": "2a17b521",
   "metadata": {},
   "outputs": [
    {
     "name": "stdout",
     "output_type": "stream",
     "text": [
      "[['AAL', 'ACN', 'ADM', 'ADP', 'ADSK', 'ADS', 'AEE', 'AEP', 'AES', 'AFL', 'AIG', 'AIZ', 'AJG', 'ALLE', 'AMG', 'AMP', 'ANDV', 'ANSS', 'ANTM', 'APA', 'APC', 'APH', 'APTV', 'AVB', 'AWK', 'BAC', 'BBT', 'BEN', 'BHF', 'BHGE', 'BIIB', 'BMY', 'BRK.B', 'BWA', 'BXP', 'CAG', 'CAT', 'CA', 'CBOE', 'CB', 'CDNS', 'CFG', 'CHK', 'CHRW', 'CHTR', 'CINF', 'CI', 'CMA', 'CMCSA', 'CME', 'CMI', 'CMS', 'COF', 'COG', 'COO', 'COP', 'COST', 'COTY', 'CSCO', 'CSRA', 'CSX', 'CTL', 'CTSH', 'CTXS', 'CVX', 'DE', 'DFS', 'DGX', 'DHR', 'DISCA', 'DISCK', 'DISH', 'DIS', 'DRE', 'DTE', 'DUK', 'DVA', 'DVN', 'DWDP', 'D', 'EA', 'EBAY', 'ED', 'EIX', 'EL', 'EOG', 'EQR', 'EQT', 'ESRX', 'ESS', 'ES', 'ETFC', 'ETN', 'ETR', 'EVHC', 'EXC', 'EXPE', 'FE', 'FITB', 'FLIR', 'FLR', 'FLS', 'FOXA', 'FTV', 'F', 'GLW', 'GM', 'GPN', 'GPS', 'GS', 'HBAN', 'HBI', 'HCP', 'HES', 'HLT', 'HPE', 'HPQ', 'HP', 'HST', 'IBM', 'ICE', 'ILMN', 'INTU', 'ISRG', 'ITW', 'IVZ', 'JBHT', 'JCI', 'JNJ', 'JNPR', 'JPM', 'JWN', 'KEY', 'KHC', 'KMI', 'KSS', 'LH', 'LKQ', 'LLY', 'LNC', 'LUK', 'L', 'MAC', 'MA', 'MCK', 'MCO', 'MDLZ', 'MDT', 'MET', 'MGM', 'MMC', 'MON', 'MOS', 'MRK', 'MRO', 'MSFT', 'MSI', 'MS', 'MU', 'MYL', 'M', 'NAVI', 'NBL', 'NDAQ', 'NFX', 'NLSN', 'NOV', 'NTAP', 'NTRS', 'NVDA', 'NWL', 'OXY', 'O', 'PAYX', 'PBCT', 'PCAR', 'PCLN', 'PEG', 'PFG', 'PH', 'PM', 'PNC', 'PNR', 'PPL', 'PRU', 'PVH', 'PWR', 'PX', 'PYPL', 'QCOM', 'REG', 'RF', 'RL', 'RRC', 'RSG', 'RTN', 'SBUX', 'SCHW', 'SIG', 'SLB', 'SO', 'SPGI', 'SPG', 'SRCL', 'STI', 'STT', 'STX', 'STZ', 'SYF', 'SYMC', 'SYY', 'TDG', 'TGT', 'TIF', 'TJX', 'TMK', 'TPR', 'TRIP', 'TROW', 'TSCO', 'TSN', 'TWX', 'TXN', 'T', 'UA', 'ULTA', 'UPS', 'URI', 'USB', 'VIAB', 'VRSK', 'VRSN', 'V', 'WDC', 'WFC', 'WMT', 'WM', 'WRK', 'WY', 'XEC', 'XOM', 'XRX', 'ZION', 'ZTS'], ['AAPL', 'AAP', 'ABBV', 'ABC', 'ABT', 'ADBE', 'ADI', 'AET', 'AGN', 'AIV', 'AKAM', 'ALB', 'ALGN', 'ALK', 'ALL', 'ALXN', 'AMAT', 'AMD', 'AME', 'AMGN', 'AMT', 'AMZN', 'AON', 'AOS', 'APD', 'ARE', 'ARNC', 'ATVI', 'AVGO', 'AVY', 'AXP', 'AYI', 'AZO', 'A', 'BAX', 'BA', 'BBY', 'BDX', 'BF.B', 'BK', 'BLK', 'BLL', 'BSX', 'CAH', 'CBG', 'CBS', 'CCI', 'CCL', 'CELG', 'CERN', 'CF', 'CHD', 'CLX', 'CL', 'CMG', 'CNC', 'CNP', 'COL', 'CPB', 'CRM', 'CTAS', 'CVS', 'CXO', 'C', 'DAL', 'DG', 'DHI', 'DLR', 'DLTR', 'DOV', 'DPS', 'DRI', 'DXC', 'ECL', 'EFX', 'EMN', 'EMR', 'EQIX', 'EW', 'EXPD', 'EXR', 'FAST', 'FBHS', 'FB', 'FCX', 'FDX', 'FFIV', 'FISV', 'FIS', 'FL', 'FMC', 'FOX', 'FRT', 'FTI', 'GD', 'GE', 'GGP', 'GILD', 'GIS', 'GOOGL', 'GOOG', 'GPC', 'GRMN', 'GT', 'GWW', 'HAL', 'HAS', 'HCA', 'HCN', 'HD', 'HIG', 'HII', 'HOG', 'HOLX', 'HON', 'HRB', 'HRL', 'HRS', 'HSIC', 'HSY', 'HUM', 'IDXX', 'IFF', 'INCY', 'INFO', 'INTC', 'IPG', 'IP', 'IQV', 'IRM', 'IR', 'IT', 'JEC', 'KIM', 'KLAC', 'KMB', 'KMX', 'KORS', 'KO', 'KR', 'KSU', 'K', 'LB', 'LEG', 'LEN', 'LLL', 'LMT', 'LNT', 'LOW', 'LRCX', 'LUV', 'LYB', 'MAA', 'MAR', 'MAS', 'MAT', 'MCD', 'MCHP', 'MHK', 'MKC', 'MLM', 'MMM', 'MNST', 'MO', 'MPC', 'MTB', 'MTD', 'NCLH', 'NEE', 'NEM', 'NFLX', 'NI', 'NKE', 'NOC', 'NRG', 'NSC', 'NUE', 'NWSA', 'NWS', 'OKE', 'OMC', 'ORCL', 'ORLY', 'PCG', 'PDCO', 'PEP', 'PFE', 'PGR', 'PG', 'PHM', 'PKG', 'PKI', 'PLD', 'PNW', 'PPG', 'PRGO', 'PSA', 'PSX', 'PXD', 'QRVO', 'RCL', 'REGN', 'RE', 'RHI', 'RHT', 'RJF', 'RMD', 'ROK', 'ROP', 'ROST', 'SBAC', 'SCG', 'SEE', 'SHW', 'SJM', 'SLG', 'SNA', 'SNI', 'SNPS', 'SRE', 'SWKS', 'SWK', 'SYK', 'TAP', 'TEL', 'TMO', 'TRV', 'TSS', 'TXT', 'UAA', 'UAL', 'UDR', 'UHS', 'UNH', 'UNM', 'UNP', 'UTX', 'VAR', 'VFC', 'VLO', 'VMC', 'VNO', 'VRTX', 'VTR', 'VZ', 'WAT', 'WBA', 'WEC', 'WHR', 'WLTW', 'WMB', 'WU', 'WYNN', 'WYN', 'XEL', 'XLNX', 'XL', 'XRAY', 'XYL', 'YUM', 'ZBH']]\n"
     ]
    }
   ],
   "source": [
    "print(community_names30_split2)"
   ]
  },
  {
   "cell_type": "code",
   "execution_count": 101,
   "id": "e44b9a4d",
   "metadata": {},
   "outputs": [],
   "source": [
    "#data structure to store residue from cascade\n",
    "residue_accumulation0 = [0 for _ in range(G0.number_of_nodes())]\n",
    "residue_accumulation1 = [0 for _ in range(G1.number_of_nodes())]\n",
    "residue_accumulation7 = [0 for _ in range(G7.number_of_nodes())]\n",
    "residue_accumulation30 = [0 for _ in range(G30.number_of_nodes())]"
   ]
  },
  {
   "cell_type": "code",
   "execution_count": 102,
   "id": "b0b4b4cd",
   "metadata": {},
   "outputs": [],
   "source": [
    "def information_cascade(graph, start_node, start_value, accumulation):\n",
    "    # Initialize node values\n",
    "    node_values = {node: 0 for node in graph.nodes}\n",
    "    node_values[start_node] = start_value\n",
    "    \n",
    "    # Perform cascade until no more residue to spread\n",
    "    while True:\n",
    "        any_residue = False\n",
    "        \n",
    "        for node in graph.nodes:\n",
    "            residue = node_values[node]\n",
    "            node_values[node] = 0\n",
    "            if residue > 1e-10:\n",
    "                neighbors = graph.neighbors(node)\n",
    "                for neighbor in neighbors:\n",
    "                    edge_weight = graph[node][neighbor]['weight']\n",
    "                    residue_spread = residue * edge_weight\n",
    "                    accumulation[neighbor] += residue_spread\n",
    "                    node_values[neighbor] = residue_spread\n",
    "                    any_residue = True\n",
    "\n",
    "                node_values[node] = 0\n",
    "\n",
    "        if not any_residue:\n",
    "            break\n",
    "\n",
    "    return accumulation"
   ]
  },
  {
   "cell_type": "code",
   "execution_count": 103,
   "id": "0311de99",
   "metadata": {},
   "outputs": [],
   "source": [
    "test_residue_cascade0 = information_cascade(G0, 0, 10, residue_accumulation0)\n",
    "test_residue_cascade1 = information_cascade(G1, 0, 10, residue_accumulation1)\n",
    "test_residue_cascade7 = information_cascade(G7, 0, 10, residue_accumulation7)\n",
    "test_residue_cascade30 = information_cascade(G30, 0, 10, residue_accumulation30)"
   ]
  },
  {
   "cell_type": "code",
   "execution_count": 104,
   "id": "a09af16b",
   "metadata": {},
   "outputs": [],
   "source": [
    "def rank_by_residue_metric(accumulation):\n",
    "    return [e[1] for e in sorted([val, i] for i, val in enumerate(accumulation))]"
   ]
  },
  {
   "cell_type": "code",
   "execution_count": 105,
   "id": "4dc6b0ea",
   "metadata": {},
   "outputs": [],
   "source": [
    "test_residue_cascade0 = rank_by_residue_metric(test_residue_cascade0)\n",
    "test_residue_cascade0.remove(0)\n",
    "edges0 = G0.edges(0, data=True)\n",
    "test_orignal_correlation0 = [e[1] for e in sorted(edges0, key=lambda edge: edge[2]['weight'])]\n",
    "\n",
    "test_residue_cascade1 = rank_by_residue_metric(test_residue_cascade1)\n",
    "test_residue_cascade1.remove(0)\n",
    "edges1 = G1.edges(0, data=True)\n",
    "test_orignal_correlation1 = [e[1] for e in sorted(edges1, key=lambda edge: edge[2]['weight'])]\n",
    "\n",
    "test_residue_cascade7 = rank_by_residue_metric(test_residue_cascade7)\n",
    "test_residue_cascade7.remove(0)\n",
    "edges7 = G7.edges(0, data=True)\n",
    "test_orignal_correlation7 = [e[1] for e in sorted(edges7, key=lambda edge: edge[2]['weight'])]\n",
    "\n",
    "test_residue_cascade30 = rank_by_residue_metric(test_residue_cascade30)\n",
    "test_residue_cascade30.remove(0)\n",
    "edges30 = G30.edges(0, data=True)\n",
    "test_orignal_correlation30 = [e[1] for e in sorted(edges30, key=lambda edge: edge[2]['weight'])]"
   ]
  },
  {
   "cell_type": "code",
   "execution_count": 106,
   "id": "cac77be0",
   "metadata": {},
   "outputs": [
    {
     "name": "stdout",
     "output_type": "stream",
     "text": [
      "correlaion0: 0.060614999301691036\n",
      "correlaion1: 0.08633376544129848\n",
      "correlaion7: 0.0680770633155335\n",
      "correlaion30: 0.19385713067188573\n"
     ]
    }
   ],
   "source": [
    "correlation0, _ = stats.spearmanr(test_residue_cascade0, test_orignal_correlation0)\n",
    "print(f'correlaion0: {correlation0}')\n",
    "correlation1, _ = stats.spearmanr(test_residue_cascade1, test_orignal_correlation1)\n",
    "print(f'correlaion1: {correlation1}')\n",
    "correlation7, _ = stats.spearmanr(test_residue_cascade7, test_orignal_correlation7)\n",
    "print(f'correlaion7: {correlation7}')\n",
    "correlation30, _ = stats.spearmanr(test_residue_cascade30, test_orignal_correlation30)\n",
    "print(f'correlaion30: {correlation30}')"
   ]
  },
  {
   "cell_type": "code",
   "execution_count": 107,
   "id": "47117169",
   "metadata": {},
   "outputs": [
    {
     "data": {
      "text/plain": [
       "'\\nthese results are very interesting, correlation0 and 30 are very small but 1 and 7 \\nseem to be a happy median with very high correlation. What does this mean? Well first off we would\\nexpect similarity between my metrics rankings and correaltion since the cascade based correlation\\nshould be derived froim these with network strcutre accounted for. I also provided spearman correlation\\nto show that the metric generate is different from correlation and that the network structure has an \\neffect on the metric.\\n'"
      ]
     },
     "execution_count": 107,
     "metadata": {},
     "output_type": "execute_result"
    }
   ],
   "source": [
    "'''\n",
    "these results are very interesting, correlation0 and 30 are very small but 1 and 7 \n",
    "seem to be a happy median with very high correlation. What does this mean? Well first off we would\n",
    "expect similarity between my metrics rankings and correaltion since the cascade based correlation\n",
    "should be derived froim these with network strcutre accounted for. I also provided spearman correlation\n",
    "to show that the metric generate is different from correlation and that the network structure has an \n",
    "effect on the metric.\n",
    "'''"
   ]
  },
  {
   "cell_type": "code",
   "execution_count": 108,
   "id": "56a79522",
   "metadata": {},
   "outputs": [],
   "source": [
    "def get_price_change(name, stocks):\n",
    "    filtered_stocks = stocks[(stocks['Name'] == name)]\n",
    "    if filtered_stocks['percent_return'].values.size == 0: return 0\n",
    "    return filtered_stocks['percent_return'].values[0]"
   ]
  },
  {
   "cell_type": "code",
   "execution_count": 109,
   "id": "1a6622dc",
   "metadata": {},
   "outputs": [],
   "source": [
    "'''\n",
    "before I was just using a cascade starting at one stock but in reality many stocks move in a given day.\n",
    "I will implement a function to perform an overlayed cascade reflected by all price changes in a given day.\n",
    "'''\n",
    "def total_cascade(graph, day):\n",
    "    filtered_stocks = stocks[(stocks['date'] == day)]\n",
    "    if filtered_stocks.size == 0: return 'invalid date'\n",
    "    accumulation = [0 for _ in range(graph.number_of_nodes())]\n",
    "    for node in range(graph.number_of_nodes()):\n",
    "        accumulation = information_cascade(graph, node, get_price_change(graph.nodes[node]['name'], filtered_stocks), accumulation)\n",
    "    return accumulation"
   ]
  },
  {
   "cell_type": "code",
   "execution_count": 110,
   "id": "c4f287fe",
   "metadata": {},
   "outputs": [],
   "source": [
    "complete_cascade0 = total_cascade(G0, '2016-02-18')\n",
    "complete_cascade1 = total_cascade(G1, '2016-02-18')\n",
    "complete_cascade7 = total_cascade(G7, '2016-02-18')\n",
    "complete_cascade30 = total_cascade(G30, '2016-02-18')"
   ]
  },
  {
   "cell_type": "code",
   "execution_count": 111,
   "id": "f8d943a0",
   "metadata": {},
   "outputs": [],
   "source": [
    "def sort_by_in_degree(graph):\n",
    "    weighted_indegrees = {node: sum(data['weight'] for _, _, data in graph.in_edges(node, data=True)) for node in graph.nodes()}\n",
    "    return sorted(graph.nodes(), key=lambda x: weighted_indegrees[x], reverse=True)"
   ]
  },
  {
   "cell_type": "code",
   "execution_count": 112,
   "id": "202ea77c",
   "metadata": {},
   "outputs": [],
   "source": [
    "total_residue_metric0 = rank_by_residue_metric(complete_cascade0)\n",
    "total_weighted_indegress_metric0 = sort_by_in_degree(G0)\n",
    "\n",
    "total_residue_metric1 = rank_by_residue_metric(complete_cascade1)\n",
    "total_weighted_indegress_metric1 = sort_by_in_degree(G1)\n",
    "\n",
    "total_residue_metric7 = rank_by_residue_metric(complete_cascade7)\n",
    "total_weighted_indegress_metric7 = sort_by_in_degree(G7)\n",
    "\n",
    "total_residue_metric30 = rank_by_residue_metric(complete_cascade30)\n",
    "total_weighted_indegress_metric30 = sort_by_in_degree(G30)"
   ]
  },
  {
   "cell_type": "code",
   "execution_count": 113,
   "id": "702c98be",
   "metadata": {},
   "outputs": [
    {
     "name": "stdout",
     "output_type": "stream",
     "text": [
      "correlaion0: 0.012153171838923024\n",
      "correlaion1: -0.03465933549876727\n",
      "correlaion7: -0.03456345634563457\n",
      "correlaion30: 0.01168355966031386\n"
     ]
    }
   ],
   "source": [
    "correlation0, _ = stats.spearmanr(total_residue_metric0, total_weighted_indegress_metric0)\n",
    "print(f'correlaion0: {correlation0}')\n",
    "\n",
    "correlation1, _ = stats.spearmanr(total_residue_metric1, total_weighted_indegress_metric1)\n",
    "print(f'correlaion1: {correlation1}')\n",
    "\n",
    "correlation7, _ = stats.spearmanr(total_residue_metric7, total_weighted_indegress_metric7)\n",
    "print(f'correlaion7: {correlation7}')\n",
    "\n",
    "correlation30, _ = stats.spearmanr(total_residue_metric30, total_weighted_indegress_metric30)\n",
    "print(f'correlaion30: {correlation30}')"
   ]
  },
  {
   "cell_type": "code",
   "execution_count": null,
   "id": "9d8c8123",
   "metadata": {},
   "outputs": [],
   "source": []
  },
  {
   "cell_type": "code",
   "execution_count": null,
   "id": "d46ff9a9",
   "metadata": {},
   "outputs": [],
   "source": []
  },
  {
   "cell_type": "code",
   "execution_count": null,
   "id": "f60c8417",
   "metadata": {},
   "outputs": [],
   "source": []
  },
  {
   "cell_type": "code",
   "execution_count": null,
   "id": "dd40030b",
   "metadata": {},
   "outputs": [],
   "source": []
  }
 ],
 "metadata": {
  "kernelspec": {
   "display_name": "Python 3 (ipykernel)",
   "language": "python",
   "name": "python3"
  },
  "language_info": {
   "codemirror_mode": {
    "name": "ipython",
    "version": 3
   },
   "file_extension": ".py",
   "mimetype": "text/x-python",
   "name": "python",
   "nbconvert_exporter": "python",
   "pygments_lexer": "ipython3",
   "version": "3.9.12"
  }
 },
 "nbformat": 4,
 "nbformat_minor": 5
}
