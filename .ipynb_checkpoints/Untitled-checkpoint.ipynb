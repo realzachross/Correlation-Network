{
 "cells": [
  {
   "cell_type": "code",
   "execution_count": 69,
   "id": "07a322ae",
   "metadata": {},
   "outputs": [],
   "source": [
    "import networkx as nx\n",
    "import numpy as np\n",
    "import pandas as pd\n",
    "import matplotlib.pyplot as plt\n",
    "import plotly.graph_objects as goimport matplotlib.cm as cm"
   ]
  },
  {
   "cell_type": "code",
   "execution_count": 3,
   "id": "33efcafa",
   "metadata": {},
   "outputs": [],
   "source": [
    "#load data\n",
    "stocks = pd.read_csv(\"all_stocks_5yr.csv\")"
   ]
  },
  {
   "cell_type": "code",
   "execution_count": 4,
   "id": "c5ef6fa2",
   "metadata": {},
   "outputs": [
    {
     "data": {
      "text/plain": [
       "Index(['date', 'open', 'high', 'low', 'close', 'volume', 'Name'], dtype='object')"
      ]
     },
     "execution_count": 4,
     "metadata": {},
     "output_type": "execute_result"
    }
   ],
   "source": [
    "stocks.columns"
   ]
  },
  {
   "cell_type": "code",
   "execution_count": 5,
   "id": "6df8e477",
   "metadata": {},
   "outputs": [],
   "source": [
    "#drop unnessecary columns"
   ]
  },
  {
   "cell_type": "code",
   "execution_count": 6,
   "id": "65ff5e60",
   "metadata": {},
   "outputs": [],
   "source": [
    "stocks = stocks.drop(columns=['high', 'low', 'volume'])"
   ]
  },
  {
   "cell_type": "code",
   "execution_count": 7,
   "id": "d8332fc4",
   "metadata": {},
   "outputs": [
    {
     "data": {
      "text/plain": [
       "Index(['date', 'open', 'close', 'Name'], dtype='object')"
      ]
     },
     "execution_count": 7,
     "metadata": {},
     "output_type": "execute_result"
    }
   ],
   "source": [
    "stocks.columns"
   ]
  },
  {
   "cell_type": "code",
   "execution_count": 8,
   "id": "cf44bafa",
   "metadata": {},
   "outputs": [],
   "source": [
    "#add percent return column\n",
    "stocks['percent_return'] = (stocks['close'] - stocks['open']) / stocks['open']"
   ]
  },
  {
   "cell_type": "code",
   "execution_count": 9,
   "id": "1b983d35",
   "metadata": {},
   "outputs": [
    {
     "data": {
      "text/html": [
       "<div>\n",
       "<style scoped>\n",
       "    .dataframe tbody tr th:only-of-type {\n",
       "        vertical-align: middle;\n",
       "    }\n",
       "\n",
       "    .dataframe tbody tr th {\n",
       "        vertical-align: top;\n",
       "    }\n",
       "\n",
       "    .dataframe thead th {\n",
       "        text-align: right;\n",
       "    }\n",
       "</style>\n",
       "<table border=\"1\" class=\"dataframe\">\n",
       "  <thead>\n",
       "    <tr style=\"text-align: right;\">\n",
       "      <th></th>\n",
       "      <th>date</th>\n",
       "      <th>open</th>\n",
       "      <th>close</th>\n",
       "      <th>Name</th>\n",
       "      <th>percent_return</th>\n",
       "    </tr>\n",
       "  </thead>\n",
       "  <tbody>\n",
       "    <tr>\n",
       "      <th>0</th>\n",
       "      <td>2013-02-08</td>\n",
       "      <td>15.07</td>\n",
       "      <td>14.75</td>\n",
       "      <td>AAL</td>\n",
       "      <td>-0.021234</td>\n",
       "    </tr>\n",
       "    <tr>\n",
       "      <th>1</th>\n",
       "      <td>2013-02-11</td>\n",
       "      <td>14.89</td>\n",
       "      <td>14.46</td>\n",
       "      <td>AAL</td>\n",
       "      <td>-0.028878</td>\n",
       "    </tr>\n",
       "    <tr>\n",
       "      <th>2</th>\n",
       "      <td>2013-02-12</td>\n",
       "      <td>14.45</td>\n",
       "      <td>14.27</td>\n",
       "      <td>AAL</td>\n",
       "      <td>-0.012457</td>\n",
       "    </tr>\n",
       "    <tr>\n",
       "      <th>3</th>\n",
       "      <td>2013-02-13</td>\n",
       "      <td>14.30</td>\n",
       "      <td>14.66</td>\n",
       "      <td>AAL</td>\n",
       "      <td>0.025175</td>\n",
       "    </tr>\n",
       "    <tr>\n",
       "      <th>4</th>\n",
       "      <td>2013-02-14</td>\n",
       "      <td>14.94</td>\n",
       "      <td>13.99</td>\n",
       "      <td>AAL</td>\n",
       "      <td>-0.063588</td>\n",
       "    </tr>\n",
       "  </tbody>\n",
       "</table>\n",
       "</div>"
      ],
      "text/plain": [
       "         date   open  close Name  percent_return\n",
       "0  2013-02-08  15.07  14.75  AAL       -0.021234\n",
       "1  2013-02-11  14.89  14.46  AAL       -0.028878\n",
       "2  2013-02-12  14.45  14.27  AAL       -0.012457\n",
       "3  2013-02-13  14.30  14.66  AAL        0.025175\n",
       "4  2013-02-14  14.94  13.99  AAL       -0.063588"
      ]
     },
     "execution_count": 9,
     "metadata": {},
     "output_type": "execute_result"
    }
   ],
   "source": [
    "stocks.head()"
   ]
  },
  {
   "cell_type": "code",
   "execution_count": 10,
   "id": "cb3a257e",
   "metadata": {},
   "outputs": [],
   "source": [
    "#finds the correlation between percent_return of stock [name1] and stock [name2] [offset] days later\n",
    "def correlation(name1, name2, offset, stocks_pivot):\n",
    "    correlation = stocks_pivot[name1].corr(stocks_pivot[name2])\n",
    "    return correlation"
   ]
  },
  {
   "cell_type": "code",
   "execution_count": 11,
   "id": "a2ac4447",
   "metadata": {},
   "outputs": [],
   "source": [
    "#finds the correlation between percent_return of stock [name1] and stock [name2] [offset] days later\n",
    "def correlation_offset(name1, name2, offset):\n",
    "    if offset < 0: return 'Offset must be non-negative'\n",
    "    stocks_filtered = stocks.loc[(stocks['Name'] == name1) | (stocks['Name'] == name2)]\n",
    "    stocks_pivot = stocks_filtered.pivot(index='date', columns='Name', values='percent_return')\n",
    "    stocks_pivot[name2] = stocks_pivot[name2].shift(-offset)\n",
    "    correlation = stocks_pivot[name1].corr(stocks_pivot[name2])\n",
    "    return correlation"
   ]
  },
  {
   "cell_type": "code",
   "execution_count": 12,
   "id": "d5b0ba84",
   "metadata": {},
   "outputs": [
    {
     "data": {
      "text/plain": [
       "0.030439793761227307"
      ]
     },
     "execution_count": 12,
     "metadata": {},
     "output_type": "execute_result"
    }
   ],
   "source": [
    "#sample call to correlation function\n",
    "correlation_offset('NVDA', 'AMD', 1)"
   ]
  },
  {
   "cell_type": "code",
   "execution_count": 13,
   "id": "12d34b66",
   "metadata": {},
   "outputs": [
    {
     "name": "stdout",
     "output_type": "stream",
     "text": [
      "['AAL' 'AAPL' 'AAP' 'ABBV' 'ABC' 'ABT' 'ACN' 'ADBE' 'ADI' 'ADM']\n"
     ]
    }
   ],
   "source": [
    "#list of distinct stocks\n",
    "unique = stocks['Name'].unique()\n",
    "print(unique[:10])"
   ]
  },
  {
   "cell_type": "code",
   "execution_count": 14,
   "id": "6e08ccda",
   "metadata": {},
   "outputs": [],
   "source": [
    "def populate_edges(unique, offset=1):\n",
    "    if offset < 0: return 'Offset must be non-negative'\n",
    "    stocks_pivot = stocks.pivot(index='date', columns='Name', values='percent_return')\n",
    "    edges = np.zeros((len(unique),len(unique)))\n",
    "    for i, stock2 in enumerate(unique):\n",
    "        stocks_pivot[stock2] = stocks_pivot[stock2].shift(-offset)\n",
    "        for j, stock1 in enumerate(unique):\n",
    "            if edges[i][j] != 0: continue\n",
    "            corr = correlation(stock1, stock2, offset, stocks_pivot)\n",
    "            edges[i,j] = corr\n",
    "            edges[j, i] = corr\n",
    "        stocks_pivot[stock2] = stocks_pivot[stock2].shift(offset)\n",
    "    return edges"
   ]
  },
  {
   "cell_type": "code",
   "execution_count": 15,
   "id": "6b05c343",
   "metadata": {},
   "outputs": [],
   "source": [
    "#create adjacency matrices with naming convention weights{offset in days}\n",
    "weights0 = populate_edges(unique, 0)\n",
    "weights1 = populate_edges(unique, 1)\n",
    "weights7 = populate_edges(unique, 7)\n",
    "weights30 = populate_edges(unique, 30)"
   ]
  },
  {
   "cell_type": "code",
   "execution_count": 16,
   "id": "fc5bbab0",
   "metadata": {},
   "outputs": [
    {
     "name": "stdout",
     "output_type": "stream",
     "text": [
      "(505, 505)\n",
      "(505, 505)\n",
      "(505, 505)\n",
      "(505, 505)\n"
     ]
    }
   ],
   "source": [
    "print(weights0.shape)\n",
    "print(weights1.shape)\n",
    "print(weights7.shape)\n",
    "print(weights30.shape)"
   ]
  },
  {
   "cell_type": "code",
   "execution_count": 17,
   "id": "9aabed1a",
   "metadata": {},
   "outputs": [],
   "source": [
    "#initialize graphs corresponding to each adjacency matrix of weights\n",
    "G0 = nx.DiGraph()\n",
    "G1 = nx.DiGraph()\n",
    "G7 = nx.DiGraph()\n",
    "G30 = nx.DiGraph()"
   ]
  },
  {
   "cell_type": "code",
   "execution_count": 18,
   "id": "c3aaf323",
   "metadata": {},
   "outputs": [],
   "source": [
    "def add_nodes(graph):\n",
    "    graph.add_nodes_from([(i, {\"name\" : stock}) for i, stock in enumerate(unique)])"
   ]
  },
  {
   "cell_type": "code",
   "execution_count": 19,
   "id": "d2389ba6",
   "metadata": {},
   "outputs": [],
   "source": [
    "def add_edges(graph, edges):\n",
    "    rows, cols = edges.shape\n",
    "    for row in range(rows):\n",
    "        for col in range(cols):\n",
    "            if row != col: graph.add_edge(row, col, weight=edges[row, col])"
   ]
  },
  {
   "cell_type": "code",
   "execution_count": 20,
   "id": "87606ac3",
   "metadata": {},
   "outputs": [],
   "source": [
    "def make_graph(graph, edges):\n",
    "    add_nodes(graph)\n",
    "    add_edges(graph, edges)"
   ]
  },
  {
   "cell_type": "code",
   "execution_count": 21,
   "id": "251c6b66",
   "metadata": {},
   "outputs": [],
   "source": [
    "make_graph(G0, weights0)\n",
    "make_graph(G1, weights1)\n",
    "make_graph(G7, weights7)\n",
    "make_graph(G30, weights30)"
   ]
  },
  {
   "cell_type": "code",
   "execution_count": 22,
   "id": "4436cd49",
   "metadata": {},
   "outputs": [
    {
     "name": "stdout",
     "output_type": "stream",
     "text": [
      "254520\n",
      "505\n",
      "504\n"
     ]
    }
   ],
   "source": [
    "print(G0.number_of_edges())\n",
    "print(G0.number_of_nodes())\n",
    "print(G0.out_degree(0))"
   ]
  },
  {
   "cell_type": "code",
   "execution_count": 24,
   "id": "61acaa45",
   "metadata": {},
   "outputs": [
    {
     "ename": "KeyboardInterrupt",
     "evalue": "",
     "output_type": "error",
     "traceback": [
      "\u001b[0;31m---------------------------------------------------------------------------\u001b[0m",
      "\u001b[0;31mKeyboardInterrupt\u001b[0m                         Traceback (most recent call last)",
      "Input \u001b[0;32mIn [24]\u001b[0m, in \u001b[0;36m<cell line: 2>\u001b[0;34m()\u001b[0m\n\u001b[1;32m      1\u001b[0m \u001b[38;5;66;03m#compute the min and max spanning trees\u001b[39;00m\n\u001b[0;32m----> 2\u001b[0m min_st0 \u001b[38;5;241m=\u001b[39m \u001b[43mnx\u001b[49m\u001b[38;5;241;43m.\u001b[39;49m\u001b[43mminimum_spanning_arborescence\u001b[49m\u001b[43m(\u001b[49m\u001b[43mG0\u001b[49m\u001b[43m)\u001b[49m\n\u001b[1;32m      3\u001b[0m \u001b[38;5;124;03m'''min_st1 = nx.minimum_spanning_arborescence(G1)\u001b[39;00m\n\u001b[1;32m      4\u001b[0m \u001b[38;5;124;03mmin_st7 = nx.minimum_spanning_arborescence(G7)\u001b[39;00m\n\u001b[1;32m      5\u001b[0m \u001b[38;5;124;03mmin_st30 = nx.minimum_spanning_arborescence(G30)\u001b[39;00m\n\u001b[0;32m   (...)\u001b[0m\n\u001b[1;32m      8\u001b[0m \u001b[38;5;124;03mmax_st7 = nx.maximum_spanning_arborescence(G7)\u001b[39;00m\n\u001b[1;32m      9\u001b[0m \u001b[38;5;124;03mmax_st30 = nx.maximum_spanning_arborescence(G30)'''\u001b[39;00m\n",
      "File \u001b[0;32m/opt/anaconda3/lib/python3.9/site-packages/networkx/algorithms/tree/branchings.py:738\u001b[0m, in \u001b[0;36mminimum_spanning_arborescence\u001b[0;34m(G, attr, default, preserve_attrs, partition)\u001b[0m\n\u001b[1;32m    734\u001b[0m \u001b[38;5;28;01mdef\u001b[39;00m \u001b[38;5;21mminimum_spanning_arborescence\u001b[39m(\n\u001b[1;32m    735\u001b[0m     G, attr\u001b[38;5;241m=\u001b[39m\u001b[38;5;124m\"\u001b[39m\u001b[38;5;124mweight\u001b[39m\u001b[38;5;124m\"\u001b[39m, default\u001b[38;5;241m=\u001b[39m\u001b[38;5;241m1\u001b[39m, preserve_attrs\u001b[38;5;241m=\u001b[39m\u001b[38;5;28;01mFalse\u001b[39;00m, partition\u001b[38;5;241m=\u001b[39m\u001b[38;5;28;01mNone\u001b[39;00m\n\u001b[1;32m    736\u001b[0m ):\n\u001b[1;32m    737\u001b[0m     ed \u001b[38;5;241m=\u001b[39m Edmonds(G)\n\u001b[0;32m--> 738\u001b[0m     B \u001b[38;5;241m=\u001b[39m \u001b[43med\u001b[49m\u001b[38;5;241;43m.\u001b[39;49m\u001b[43mfind_optimum\u001b[49m\u001b[43m(\u001b[49m\n\u001b[1;32m    739\u001b[0m \u001b[43m        \u001b[49m\u001b[43mattr\u001b[49m\u001b[43m,\u001b[49m\n\u001b[1;32m    740\u001b[0m \u001b[43m        \u001b[49m\u001b[43mdefault\u001b[49m\u001b[43m,\u001b[49m\n\u001b[1;32m    741\u001b[0m \u001b[43m        \u001b[49m\u001b[43mkind\u001b[49m\u001b[38;5;241;43m=\u001b[39;49m\u001b[38;5;124;43m\"\u001b[39;49m\u001b[38;5;124;43mmin\u001b[39;49m\u001b[38;5;124;43m\"\u001b[39;49m\u001b[43m,\u001b[49m\n\u001b[1;32m    742\u001b[0m \u001b[43m        \u001b[49m\u001b[43mstyle\u001b[49m\u001b[38;5;241;43m=\u001b[39;49m\u001b[38;5;124;43m\"\u001b[39;49m\u001b[38;5;124;43marborescence\u001b[39;49m\u001b[38;5;124;43m\"\u001b[39;49m\u001b[43m,\u001b[49m\n\u001b[1;32m    743\u001b[0m \u001b[43m        \u001b[49m\u001b[43mpreserve_attrs\u001b[49m\u001b[38;5;241;43m=\u001b[39;49m\u001b[43mpreserve_attrs\u001b[49m\u001b[43m,\u001b[49m\n\u001b[1;32m    744\u001b[0m \u001b[43m        \u001b[49m\u001b[43mpartition\u001b[49m\u001b[38;5;241;43m=\u001b[39;49m\u001b[43mpartition\u001b[49m\u001b[43m,\u001b[49m\n\u001b[1;32m    745\u001b[0m \u001b[43m    \u001b[49m\u001b[43m)\u001b[49m\n\u001b[1;32m    746\u001b[0m     \u001b[38;5;28;01mif\u001b[39;00m \u001b[38;5;129;01mnot\u001b[39;00m is_arborescence(B):\n\u001b[1;32m    747\u001b[0m         msg \u001b[38;5;241m=\u001b[39m \u001b[38;5;124m\"\u001b[39m\u001b[38;5;124mNo minimum spanning arborescence in G.\u001b[39m\u001b[38;5;124m\"\u001b[39m\n",
      "File \u001b[0;32m/opt/anaconda3/lib/python3.9/site-packages/networkx/algorithms/tree/branchings.py:544\u001b[0m, in \u001b[0;36mEdmonds.find_optimum\u001b[0;34m(self, attr, default, kind, style, preserve_attrs, partition, seed)\u001b[0m\n\u001b[1;32m    541\u001b[0m \u001b[38;5;28mself\u001b[39m\u001b[38;5;241m.\u001b[39mminedge_circuit\u001b[38;5;241m.\u001b[39mappend(minedge)\n\u001b[1;32m    543\u001b[0m \u001b[38;5;28;01mif\u001b[39;00m \u001b[38;5;28mself\u001b[39m\u001b[38;5;241m.\u001b[39mstore:\n\u001b[0;32m--> 544\u001b[0m     \u001b[38;5;28mself\u001b[39m\u001b[38;5;241m.\u001b[39mgraphs\u001b[38;5;241m.\u001b[39mappend(\u001b[43mG\u001b[49m\u001b[38;5;241;43m.\u001b[39;49m\u001b[43mcopy\u001b[49m\u001b[43m(\u001b[49m\u001b[43m)\u001b[49m)\n\u001b[1;32m    545\u001b[0m \u001b[38;5;66;03m# Always need the branching with circuits.\u001b[39;00m\n\u001b[1;32m    546\u001b[0m \u001b[38;5;28mself\u001b[39m\u001b[38;5;241m.\u001b[39mbranchings\u001b[38;5;241m.\u001b[39mappend(B\u001b[38;5;241m.\u001b[39mcopy())\n",
      "File \u001b[0;32m/opt/anaconda3/lib/python3.9/site-packages/networkx/classes/multigraph.py:1005\u001b[0m, in \u001b[0;36mMultiGraph.copy\u001b[0;34m(self, as_view)\u001b[0m\n\u001b[1;32m   1003\u001b[0m G\u001b[38;5;241m.\u001b[39mgraph\u001b[38;5;241m.\u001b[39mupdate(\u001b[38;5;28mself\u001b[39m\u001b[38;5;241m.\u001b[39mgraph)\n\u001b[1;32m   1004\u001b[0m G\u001b[38;5;241m.\u001b[39madd_nodes_from((n, d\u001b[38;5;241m.\u001b[39mcopy()) \u001b[38;5;28;01mfor\u001b[39;00m n, d \u001b[38;5;129;01min\u001b[39;00m \u001b[38;5;28mself\u001b[39m\u001b[38;5;241m.\u001b[39m_node\u001b[38;5;241m.\u001b[39mitems())\n\u001b[0;32m-> 1005\u001b[0m \u001b[43mG\u001b[49m\u001b[38;5;241;43m.\u001b[39;49m\u001b[43madd_edges_from\u001b[49m\u001b[43m(\u001b[49m\n\u001b[1;32m   1006\u001b[0m \u001b[43m    \u001b[49m\u001b[43m(\u001b[49m\u001b[43mu\u001b[49m\u001b[43m,\u001b[49m\u001b[43m \u001b[49m\u001b[43mv\u001b[49m\u001b[43m,\u001b[49m\u001b[43m \u001b[49m\u001b[43mkey\u001b[49m\u001b[43m,\u001b[49m\u001b[43m \u001b[49m\u001b[43mdatadict\u001b[49m\u001b[38;5;241;43m.\u001b[39;49m\u001b[43mcopy\u001b[49m\u001b[43m(\u001b[49m\u001b[43m)\u001b[49m\u001b[43m)\u001b[49m\n\u001b[1;32m   1007\u001b[0m \u001b[43m    \u001b[49m\u001b[38;5;28;43;01mfor\u001b[39;49;00m\u001b[43m \u001b[49m\u001b[43mu\u001b[49m\u001b[43m,\u001b[49m\u001b[43m \u001b[49m\u001b[43mnbrs\u001b[49m\u001b[43m \u001b[49m\u001b[38;5;129;43;01min\u001b[39;49;00m\u001b[43m \u001b[49m\u001b[38;5;28;43mself\u001b[39;49m\u001b[38;5;241;43m.\u001b[39;49m\u001b[43m_adj\u001b[49m\u001b[38;5;241;43m.\u001b[39;49m\u001b[43mitems\u001b[49m\u001b[43m(\u001b[49m\u001b[43m)\u001b[49m\n\u001b[1;32m   1008\u001b[0m \u001b[43m    \u001b[49m\u001b[38;5;28;43;01mfor\u001b[39;49;00m\u001b[43m \u001b[49m\u001b[43mv\u001b[49m\u001b[43m,\u001b[49m\u001b[43m \u001b[49m\u001b[43mkeydict\u001b[49m\u001b[43m \u001b[49m\u001b[38;5;129;43;01min\u001b[39;49;00m\u001b[43m \u001b[49m\u001b[43mnbrs\u001b[49m\u001b[38;5;241;43m.\u001b[39;49m\u001b[43mitems\u001b[49m\u001b[43m(\u001b[49m\u001b[43m)\u001b[49m\n\u001b[1;32m   1009\u001b[0m \u001b[43m    \u001b[49m\u001b[38;5;28;43;01mfor\u001b[39;49;00m\u001b[43m \u001b[49m\u001b[43mkey\u001b[49m\u001b[43m,\u001b[49m\u001b[43m \u001b[49m\u001b[43mdatadict\u001b[49m\u001b[43m \u001b[49m\u001b[38;5;129;43;01min\u001b[39;49;00m\u001b[43m \u001b[49m\u001b[43mkeydict\u001b[49m\u001b[38;5;241;43m.\u001b[39;49m\u001b[43mitems\u001b[49m\u001b[43m(\u001b[49m\u001b[43m)\u001b[49m\n\u001b[1;32m   1010\u001b[0m \u001b[43m\u001b[49m\u001b[43m)\u001b[49m\n\u001b[1;32m   1011\u001b[0m \u001b[38;5;28;01mreturn\u001b[39;00m G\n",
      "File \u001b[0;32m/opt/anaconda3/lib/python3.9/site-packages/networkx/algorithms/tree/branchings.py:219\u001b[0m, in \u001b[0;36mMultiDiGraph_EdgeKey.add_edges_from\u001b[0;34m(self, ebunch_to_add, **attr)\u001b[0m\n\u001b[1;32m    217\u001b[0m \u001b[38;5;28;01mdef\u001b[39;00m \u001b[38;5;21madd_edges_from\u001b[39m(\u001b[38;5;28mself\u001b[39m, ebunch_to_add, \u001b[38;5;241m*\u001b[39m\u001b[38;5;241m*\u001b[39mattr):\n\u001b[1;32m    218\u001b[0m     \u001b[38;5;28;01mfor\u001b[39;00m u, v, k, d \u001b[38;5;129;01min\u001b[39;00m ebunch_to_add:\n\u001b[0;32m--> 219\u001b[0m         \u001b[38;5;28;43mself\u001b[39;49m\u001b[38;5;241;43m.\u001b[39;49m\u001b[43madd_edge\u001b[49m\u001b[43m(\u001b[49m\u001b[43mu\u001b[49m\u001b[43m,\u001b[49m\u001b[43m \u001b[49m\u001b[43mv\u001b[49m\u001b[43m,\u001b[49m\u001b[43m \u001b[49m\u001b[43mk\u001b[49m\u001b[43m,\u001b[49m\u001b[43m \u001b[49m\u001b[38;5;241;43m*\u001b[39;49m\u001b[38;5;241;43m*\u001b[39;49m\u001b[43md\u001b[49m\u001b[43m)\u001b[49m\n",
      "File \u001b[0;32m/opt/anaconda3/lib/python3.9/site-packages/networkx/algorithms/tree/branchings.py:215\u001b[0m, in \u001b[0;36mMultiDiGraph_EdgeKey.add_edge\u001b[0;34m(self, u_for_edge, v_for_edge, key_for_edge, **attr)\u001b[0m\n\u001b[1;32m    212\u001b[0m         \u001b[38;5;28;01mraise\u001b[39;00m \u001b[38;5;167;01mException\u001b[39;00m(\u001b[38;5;124mf\u001b[39m\u001b[38;5;124m\"\u001b[39m\u001b[38;5;124mKey \u001b[39m\u001b[38;5;132;01m{\u001b[39;00mkey\u001b[38;5;132;01m!r}\u001b[39;00m\u001b[38;5;124m is already in use.\u001b[39m\u001b[38;5;124m\"\u001b[39m)\n\u001b[1;32m    214\u001b[0m \u001b[38;5;28mself\u001b[39m\u001b[38;5;241m.\u001b[39m_cls\u001b[38;5;241m.\u001b[39madd_edge(u, v, key, \u001b[38;5;241m*\u001b[39m\u001b[38;5;241m*\u001b[39mattr)\n\u001b[0;32m--> 215\u001b[0m \u001b[38;5;28mself\u001b[39m\u001b[38;5;241m.\u001b[39medge_index[key] \u001b[38;5;241m=\u001b[39m (u, v, \u001b[38;5;28;43mself\u001b[39;49m\u001b[38;5;241;43m.\u001b[39;49m\u001b[43msucc\u001b[49m\u001b[43m[\u001b[49m\u001b[43mu\u001b[49m\u001b[43m]\u001b[49m[v][key])\n",
      "File \u001b[0;32m/opt/anaconda3/lib/python3.9/site-packages/networkx/classes/coreviews.py:104\u001b[0m, in \u001b[0;36mMultiAdjacencyView.__getitem__\u001b[0;34m(self, name)\u001b[0m\n\u001b[1;32m    103\u001b[0m \u001b[38;5;28;01mdef\u001b[39;00m \u001b[38;5;21m__getitem__\u001b[39m(\u001b[38;5;28mself\u001b[39m, name):\n\u001b[0;32m--> 104\u001b[0m     \u001b[38;5;28;01mreturn\u001b[39;00m \u001b[43mAdjacencyView\u001b[49m\u001b[43m(\u001b[49m\u001b[38;5;28;43mself\u001b[39;49m\u001b[38;5;241;43m.\u001b[39;49m\u001b[43m_atlas\u001b[49m\u001b[43m[\u001b[49m\u001b[43mname\u001b[49m\u001b[43m]\u001b[49m\u001b[43m)\u001b[49m\n",
      "File \u001b[0;32m/opt/anaconda3/lib/python3.9/site-packages/networkx/classes/coreviews.py:44\u001b[0m, in \u001b[0;36mAtlasView.__init__\u001b[0;34m(self, d)\u001b[0m\n\u001b[1;32m     41\u001b[0m \u001b[38;5;28;01mdef\u001b[39;00m \u001b[38;5;21m__setstate__\u001b[39m(\u001b[38;5;28mself\u001b[39m, state):\n\u001b[1;32m     42\u001b[0m     \u001b[38;5;28mself\u001b[39m\u001b[38;5;241m.\u001b[39m_atlas \u001b[38;5;241m=\u001b[39m state[\u001b[38;5;124m\"\u001b[39m\u001b[38;5;124m_atlas\u001b[39m\u001b[38;5;124m\"\u001b[39m]\n\u001b[0;32m---> 44\u001b[0m \u001b[38;5;28;01mdef\u001b[39;00m \u001b[38;5;21m__init__\u001b[39m(\u001b[38;5;28mself\u001b[39m, d):\n\u001b[1;32m     45\u001b[0m     \u001b[38;5;28mself\u001b[39m\u001b[38;5;241m.\u001b[39m_atlas \u001b[38;5;241m=\u001b[39m d\n\u001b[1;32m     47\u001b[0m \u001b[38;5;28;01mdef\u001b[39;00m \u001b[38;5;21m__len__\u001b[39m(\u001b[38;5;28mself\u001b[39m):\n",
      "\u001b[0;31mKeyboardInterrupt\u001b[0m: "
     ]
    }
   ],
   "source": [
    "#compute the min and max spanning trees\n",
    "min_st0 = nx.minimum_spanning_arborescence(G0)\n",
    "'''min_st1 = nx.minimum_spanning_arborescence(G1)\n",
    "min_st7 = nx.minimum_spanning_arborescence(G7)\n",
    "min_st30 = nx.minimum_spanning_arborescence(G30)\n",
    "max_st0 = nx.maximum_spanning_arborescence(G0)\n",
    "max_st1 = nx.maximum_spanning_arborescence(G1)\n",
    "max_st7 = nx.maximum_spanning_arborescence(G7)\n",
    "max_st30 = nx.maximum_spanning_arborescence(G30)'''"
   ]
  },
  {
   "cell_type": "code",
   "execution_count": 23,
   "id": "bdd796ce",
   "metadata": {},
   "outputs": [],
   "source": [
    "#finds the {tag} degree node in the graph such that tag is in {max, min}\n",
    "def get_degree_extrema(graph, tag):\n",
    "    if tag not in ['max', 'min']: return 'invalid tag'\n",
    "    node_sums = {}\n",
    "    for node in graph.nodes:\n",
    "        edge_weights = graph.edges(node, data='weight')\n",
    "        sum_of_edges = sum(weight for _, _, weight in edge_weights)\n",
    "        node_sums[node] = sum_of_edges\n",
    "    if tag == 'max': return graph.nodes[max(node_sums, key=node_sums.get)]\n",
    "    else: return graph.nodes[min(node_sums, key=node_sums.get)]"
   ]
  },
  {
   "cell_type": "code",
   "execution_count": 24,
   "id": "2fb77c3a",
   "metadata": {},
   "outputs": [
    {
     "name": "stdout",
     "output_type": "stream",
     "text": [
      "max degree in G0 is: {'name': 'HON'}\n",
      "max degree in G1 is: {'name': 'WLTW'}\n",
      "max degree in G7 is: {'name': 'APTV'}\n",
      "max degree in G30 is: {'name': 'UA'}\n",
      "min degree in G0 is: {'name': 'CHD'}\n",
      "min degree in G1 is: {'name': 'DWDP'}\n",
      "min degree in G7 is: {'name': 'ABBV'}\n",
      "min degree in G30 is: {'name': 'ABBV'}\n"
     ]
    }
   ],
   "source": [
    "print(f'max degree in G0 is: {get_degree_extrema(G0, \"max\")}')\n",
    "print(f'max degree in G1 is: {get_degree_extrema(G1, \"max\")}')\n",
    "print(f'max degree in G7 is: {get_degree_extrema(G7, \"max\")}')\n",
    "print(f'max degree in G30 is: {get_degree_extrema(G30, \"max\")}')\n",
    "print(f'min degree in G0 is: {get_degree_extrema(G0, \"min\")}')\n",
    "print(f'min degree in G1 is: {get_degree_extrema(G1, \"min\")}')\n",
    "print(f'min degree in G7 is: {get_degree_extrema(G7, \"min\")}')\n",
    "print(f'min degree in G30 is: {get_degree_extrema(G30, \"min\")}')"
   ]
  },
  {
   "cell_type": "code",
   "execution_count": 25,
   "id": "4dfdc22e",
   "metadata": {},
   "outputs": [],
   "source": [
    "# Use the Louvain community detection algorithm to partition the graph into connecrted communities\n",
    "def find_communities(graph):\n",
    "    return nx.community.louvain_communities(graph, seed=123)"
   ]
  },
  {
   "cell_type": "code",
   "execution_count": 28,
   "id": "0c1cc831",
   "metadata": {},
   "outputs": [],
   "source": [
    "# Use the Louvain community detection algorithm to partition the graph into connecrted communities\n",
    "communities0 = find_communities(G0)\n",
    "communities1 = find_communities(G1)\n",
    "communities7 = find_communities(G7)\n",
    "communities30 = find_communities(G30)"
   ]
  },
  {
   "cell_type": "code",
   "execution_count": 46,
   "id": "1bdf4605",
   "metadata": {},
   "outputs": [],
   "source": [
    "#filter communites to only include multi-node communities (remove communities of single stock)\n",
    "def filter_communities(community):\n",
    "    return [c for c in community if len(c) > 1]"
   ]
  },
  {
   "cell_type": "code",
   "execution_count": 47,
   "id": "4d4d30e0",
   "metadata": {},
   "outputs": [],
   "source": [
    "communities0 = filter_communities(communities0)\n",
    "communities1 = filter_communities(communities1)\n",
    "communities7 = filter_communities(communities7)\n",
    "communities30 = filter_communities(communities30)"
   ]
  },
  {
   "cell_type": "code",
   "execution_count": 49,
   "id": "3c710656",
   "metadata": {},
   "outputs": [
    {
     "name": "stdout",
     "output_type": "stream",
     "text": [
      "55\n",
      "2\n",
      "32\n",
      "2\n"
     ]
    }
   ],
   "source": [
    "print(len(communities0))\n",
    "print(len(communities1))\n",
    "print(len(communities7))\n",
    "print(len(communities30))"
   ]
  },
  {
   "cell_type": "code",
   "execution_count": 64,
   "id": "f59a0b9e",
   "metadata": {},
   "outputs": [],
   "source": [
    "def get_community_names(communities, graph):\n",
    "    res = list()\n",
    "    for community in communities:\n",
    "        add = list()\n",
    "        for stock in community:\n",
    "            add.append(graph.nodes[stock]['name'])\n",
    "        res.append(add)\n",
    "    return res"
   ]
  },
  {
   "cell_type": "code",
   "execution_count": 66,
   "id": "b2c548a0",
   "metadata": {},
   "outputs": [],
   "source": [
    "community_names0 = get_community_names(communities0, G0)\n",
    "community_names1 = get_community_names(communities1, G1)\n",
    "community_names7 = get_community_names(communities7, G7)\n",
    "community_names30 = get_community_names(communities30, G30)"
   ]
  },
  {
   "cell_type": "code",
   "execution_count": 73,
   "id": "04a2fb07",
   "metadata": {},
   "outputs": [
    {
     "ename": "NameError",
     "evalue": "name 'cm' is not defined",
     "output_type": "error",
     "traceback": [
      "\u001b[0;31m---------------------------------------------------------------------------\u001b[0m",
      "\u001b[0;31mNameError\u001b[0m                                 Traceback (most recent call last)",
      "Input \u001b[0;32mIn [73]\u001b[0m, in \u001b[0;36m<cell line: 6>\u001b[0;34m()\u001b[0m\n\u001b[1;32m      3\u001b[0m category_sizes \u001b[38;5;241m=\u001b[39m [\u001b[38;5;28mlen\u001b[39m(category) \u001b[38;5;28;01mfor\u001b[39;00m category \u001b[38;5;129;01min\u001b[39;00m data]\n\u001b[1;32m      5\u001b[0m \u001b[38;5;66;03m# Generate a colormap based on the number of groups\u001b[39;00m\n\u001b[0;32m----> 6\u001b[0m cmap \u001b[38;5;241m=\u001b[39m \u001b[43mcm\u001b[49m\u001b[38;5;241m.\u001b[39mget_cmap(\u001b[38;5;124m'\u001b[39m\u001b[38;5;124mtab20\u001b[39m\u001b[38;5;124m'\u001b[39m)\n\u001b[1;32m      8\u001b[0m \u001b[38;5;66;03m# Create a scatter plot\u001b[39;00m\n\u001b[1;32m      9\u001b[0m fig, ax \u001b[38;5;241m=\u001b[39m plt\u001b[38;5;241m.\u001b[39msubplots()\n",
      "\u001b[0;31mNameError\u001b[0m: name 'cm' is not defined"
     ]
    }
   ],
   "source": [
    "data = community_names0\n",
    "# Get the sizes of each category\n",
    "category_sizes = [len(category) for category in data]\n",
    "\n",
    "# Generate a colormap based on the number of groups\n",
    "cmap = cm.get_cmap('tab20')\n",
    "\n",
    "# Create a scatter plot\n",
    "fig, ax = plt.subplots()\n",
    "\n",
    "for i, category in enumerate(data):\n",
    "    x = [i] * len(category)  # X-coordinates (group index)\n",
    "    y = [1] * len(category)  # Y-coordinates (arbitrary value)\n",
    "    sizes = [category_sizes[i]] * len(category)  # Bubble sizes\n",
    "    color = cmap(i / len(data))  # Get a color from the colormap\n",
    "    \n",
    "    ax.scatter(x, y, s=sizes, color=color, alpha=0.5, label=f'Group {i+1}')\n",
    "    for j, name in enumerate(category):\n",
    "        ax.annotate(name, (x[j], y[j]), ha='center', va='center')\n",
    "\n",
    "# Customize the plot\n",
    "ax.set_xticks(range(len(data)))\n",
    "ax.set_xticklabels(range(1, len(data) + 1))\n",
    "ax.set_xlabel('Group')\n",
    "ax.set_title('Category Sizes')\n",
    "\n",
    "ax.legend()\n",
    "plt.tight_layout()\n",
    "\n",
    "# Display the plot\n",
    "plt.show()"
   ]
  },
  {
   "cell_type": "code",
   "execution_count": null,
   "id": "85ec9e8d",
   "metadata": {},
   "outputs": [],
   "source": []
  }
 ],
 "metadata": {
  "kernelspec": {
   "display_name": "Python 3 (ipykernel)",
   "language": "python",
   "name": "python3"
  },
  "language_info": {
   "codemirror_mode": {
    "name": "ipython",
    "version": 3
   },
   "file_extension": ".py",
   "mimetype": "text/x-python",
   "name": "python",
   "nbconvert_exporter": "python",
   "pygments_lexer": "ipython3",
   "version": "3.9.12"
  }
 },
 "nbformat": 4,
 "nbformat_minor": 5
}
